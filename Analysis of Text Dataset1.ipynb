{
 "cells": [
  {
   "cell_type": "code",
   "execution_count": 1,
   "id": "34fef444",
   "metadata": {
    "_cell_guid": "b1076dfc-b9ad-4769-8c92-a6c4dae69d19",
    "_uuid": "8f2839f25d086af736a60e9eeb907d3b93b6e0e5",
    "execution": {
     "iopub.execute_input": "2022-07-17T12:03:14.471786Z",
     "iopub.status.busy": "2022-07-17T12:03:14.471163Z",
     "iopub.status.idle": "2022-07-17T12:03:41.155777Z",
     "shell.execute_reply": "2022-07-17T12:03:41.154546Z"
    },
    "papermill": {
     "duration": 26.695804,
     "end_time": "2022-07-17T12:03:41.158207",
     "exception": false,
     "start_time": "2022-07-17T12:03:14.462403",
     "status": "completed"
    },
    "tags": []
   },
   "outputs": [
    {
     "name": "stdout",
     "output_type": "stream",
     "text": [
      "Collecting SpeechRecognition\r\n",
      "  Downloading SpeechRecognition-3.8.1-py2.py3-none-any.whl (32.8 MB)\r\n",
      "\u001b[2K     \u001b[90m━━━━━━━━━━━━━━━━━━━━━━━━━━━━━━━━━━━━━━━━\u001b[0m \u001b[32m32.8/32.8 MB\u001b[0m \u001b[31m19.4 MB/s\u001b[0m eta \u001b[36m0:00:00\u001b[0m\r\n",
      "\u001b[?25hCollecting moviepy\r\n",
      "  Downloading moviepy-1.0.3.tar.gz (388 kB)\r\n",
      "\u001b[2K     \u001b[90m━━━━━━━━━━━━━━━━━━━━━━━━━━━━━━━━━━━━━━\u001b[0m \u001b[32m388.3/388.3 kB\u001b[0m \u001b[31m25.2 MB/s\u001b[0m eta \u001b[36m0:00:00\u001b[0m\r\n",
      "\u001b[?25h  Preparing metadata (setup.py) ... \u001b[?25l-\b \bdone\r\n",
      "\u001b[?25hCollecting decorator<5.0,>=4.0.2\r\n",
      "  Downloading decorator-4.4.2-py2.py3-none-any.whl (9.2 kB)\r\n",
      "Requirement already satisfied: tqdm<5.0,>=4.11.2 in /opt/conda/lib/python3.7/site-packages (from moviepy) (4.64.0)\r\n",
      "Requirement already satisfied: requests<3.0,>=2.8.1 in /opt/conda/lib/python3.7/site-packages (from moviepy) (2.27.1)\r\n",
      "Collecting proglog<=1.0.0\r\n",
      "  Downloading proglog-0.1.10-py3-none-any.whl (6.1 kB)\r\n",
      "Requirement already satisfied: numpy>=1.17.3 in /opt/conda/lib/python3.7/site-packages (from moviepy) (1.21.6)\r\n",
      "Requirement already satisfied: imageio<3.0,>=2.5 in /opt/conda/lib/python3.7/site-packages (from moviepy) (2.19.2)\r\n",
      "Collecting imageio_ffmpeg>=0.2.0\r\n",
      "  Downloading imageio_ffmpeg-0.4.7-py3-none-manylinux2010_x86_64.whl (26.9 MB)\r\n",
      "\u001b[2K     \u001b[90m━━━━━━━━━━━━━━━━━━━━━━━━━━━━━━━━━━━━━━━━\u001b[0m \u001b[32m26.9/26.9 MB\u001b[0m \u001b[31m21.0 MB/s\u001b[0m eta \u001b[36m0:00:00\u001b[0m\r\n",
      "\u001b[?25hRequirement already satisfied: pillow>=8.3.2 in /opt/conda/lib/python3.7/site-packages (from imageio<3.0,>=2.5->moviepy) (9.1.1)\r\n",
      "Requirement already satisfied: charset-normalizer~=2.0.0 in /opt/conda/lib/python3.7/site-packages (from requests<3.0,>=2.8.1->moviepy) (2.0.12)\r\n",
      "Requirement already satisfied: idna<4,>=2.5 in /opt/conda/lib/python3.7/site-packages (from requests<3.0,>=2.8.1->moviepy) (3.3)\r\n",
      "Requirement already satisfied: certifi>=2017.4.17 in /opt/conda/lib/python3.7/site-packages (from requests<3.0,>=2.8.1->moviepy) (2022.6.15)\r\n",
      "Requirement already satisfied: urllib3<1.27,>=1.21.1 in /opt/conda/lib/python3.7/site-packages (from requests<3.0,>=2.8.1->moviepy) (1.26.9)\r\n",
      "Building wheels for collected packages: moviepy\r\n",
      "  Building wheel for moviepy (setup.py) ... \u001b[?25l-\b \b\\\b \b|\b \bdone\r\n",
      "\u001b[?25h  Created wheel for moviepy: filename=moviepy-1.0.3-py3-none-any.whl size=110743 sha256=693865c55ddd432e6dae5250c86d6b59446d46447d770d6748e8b993e3b6d4b2\r\n",
      "  Stored in directory: /root/.cache/pip/wheels/56/dc/2b/9cd600d483c04af3353d66623056fc03faed76b7518faae4df\r\n",
      "Successfully built moviepy\r\n",
      "Installing collected packages: SpeechRecognition, proglog, imageio_ffmpeg, decorator, moviepy\r\n",
      "  Attempting uninstall: decorator\r\n",
      "    Found existing installation: decorator 5.1.1\r\n",
      "    Uninstalling decorator-5.1.1:\r\n",
      "      Successfully uninstalled decorator-5.1.1\r\n",
      "Successfully installed SpeechRecognition-3.8.1 decorator-4.4.2 imageio_ffmpeg-0.4.7 moviepy-1.0.3 proglog-0.1.10\r\n",
      "\u001b[33mWARNING: Running pip as the 'root' user can result in broken permissions and conflicting behaviour with the system package manager. It is recommended to use a virtual environment instead: https://pip.pypa.io/warnings/venv\u001b[0m\u001b[33m\r\n",
      "\u001b[0mNote: you may need to restart the kernel to use updated packages.\n"
     ]
    }
   ],
   "source": [
    "pip install SpeechRecognition moviepy"
   ]
  },
  {
   "cell_type": "code",
   "execution_count": 2,
   "id": "3aec5af8",
   "metadata": {
    "execution": {
     "iopub.execute_input": "2022-07-17T12:03:41.180158Z",
     "iopub.status.busy": "2022-07-17T12:03:41.179805Z",
     "iopub.status.idle": "2022-07-17T12:03:42.070612Z",
     "shell.execute_reply": "2022-07-17T12:03:42.069443Z"
    },
    "papermill": {
     "duration": 0.904627,
     "end_time": "2022-07-17T12:03:42.073130",
     "exception": false,
     "start_time": "2022-07-17T12:03:41.168503",
     "status": "completed"
    },
    "tags": []
   },
   "outputs": [],
   "source": [
    "import speech_recognition as sr \n",
    "import moviepy.editor as mp"
   ]
  },
  {
   "cell_type": "code",
   "execution_count": 3,
   "id": "91a242e1",
   "metadata": {
    "execution": {
     "iopub.execute_input": "2022-07-17T12:03:42.094157Z",
     "iopub.status.busy": "2022-07-17T12:03:42.093774Z",
     "iopub.status.idle": "2022-07-17T12:03:42.098095Z",
     "shell.execute_reply": "2022-07-17T12:03:42.097331Z"
    },
    "papermill": {
     "duration": 0.016864,
     "end_time": "2022-07-17T12:03:42.099835",
     "exception": false,
     "start_time": "2022-07-17T12:03:42.082971",
     "status": "completed"
    },
    "tags": []
   },
   "outputs": [],
   "source": [
    "r = sr.Recognizer()"
   ]
  },
  {
   "cell_type": "markdown",
   "id": "0110a1e4",
   "metadata": {
    "papermill": {
     "duration": 0.009167,
     "end_time": "2022-07-17T12:03:42.118546",
     "exception": false,
     "start_time": "2022-07-17T12:03:42.109379",
     "status": "completed"
    },
    "tags": []
   },
   "source": [
    "**importing .wav (Audio File)**"
   ]
  },
  {
   "cell_type": "code",
   "execution_count": 4,
   "id": "4ead6504",
   "metadata": {
    "execution": {
     "iopub.execute_input": "2022-07-17T12:03:42.139212Z",
     "iopub.status.busy": "2022-07-17T12:03:42.138569Z",
     "iopub.status.idle": "2022-07-17T12:03:42.142970Z",
     "shell.execute_reply": "2022-07-17T12:03:42.142297Z"
    },
    "papermill": {
     "duration": 0.016845,
     "end_time": "2022-07-17T12:03:42.144752",
     "exception": false,
     "start_time": "2022-07-17T12:03:42.127907",
     "status": "completed"
    },
    "tags": []
   },
   "outputs": [],
   "source": [
    "audio = sr.AudioFile('../input/audio-speech-sentiment/TEST/112.wav')\n",
    "\n",
    "audio1 = sr.AudioFile('../input/audio-speech-sentiment/TEST/113.wav')\n",
    "audio2 = sr.AudioFile('../input/audio-speech-sentiment/TEST/115.wav')\n",
    "audio3 = sr.AudioFile('../input/audio-speech-sentiment/TEST/119.wav')\n",
    "audio4 = sr.AudioFile('../input/audio-speech-sentiment/TEST/123.wav')\n"
   ]
  },
  {
   "cell_type": "code",
   "execution_count": 5,
   "id": "d28cc1a9",
   "metadata": {
    "execution": {
     "iopub.execute_input": "2022-07-17T12:03:42.165868Z",
     "iopub.status.busy": "2022-07-17T12:03:42.165315Z",
     "iopub.status.idle": "2022-07-17T12:03:43.144655Z",
     "shell.execute_reply": "2022-07-17T12:03:43.143302Z"
    },
    "papermill": {
     "duration": 0.992174,
     "end_time": "2022-07-17T12:03:43.146993",
     "exception": false,
     "start_time": "2022-07-17T12:03:42.154819",
     "status": "completed"
    },
    "tags": []
   },
   "outputs": [],
   "source": [
    "with audio as source:\n",
    " audio_file = r.record(source)\n",
    "result = r.recognize_google(audio_file)"
   ]
  },
  {
   "cell_type": "code",
   "execution_count": 6,
   "id": "af9a2978",
   "metadata": {
    "execution": {
     "iopub.execute_input": "2022-07-17T12:03:43.167982Z",
     "iopub.status.busy": "2022-07-17T12:03:43.167597Z",
     "iopub.status.idle": "2022-07-17T12:03:43.173733Z",
     "shell.execute_reply": "2022-07-17T12:03:43.172524Z"
    },
    "papermill": {
     "duration": 0.01902,
     "end_time": "2022-07-17T12:03:43.175816",
     "exception": false,
     "start_time": "2022-07-17T12:03:43.156796",
     "status": "completed"
    },
    "tags": []
   },
   "outputs": [
    {
     "name": "stdout",
     "output_type": "stream",
     "text": [
      "congratulations you won the challenge\n"
     ]
    }
   ],
   "source": [
    "print(result)"
   ]
  },
  {
   "cell_type": "code",
   "execution_count": 7,
   "id": "b6e08b7d",
   "metadata": {
    "execution": {
     "iopub.execute_input": "2022-07-17T12:03:43.197397Z",
     "iopub.status.busy": "2022-07-17T12:03:43.196775Z",
     "iopub.status.idle": "2022-07-17T12:03:43.201655Z",
     "shell.execute_reply": "2022-07-17T12:03:43.200583Z"
    },
    "papermill": {
     "duration": 0.018023,
     "end_time": "2022-07-17T12:03:43.203732",
     "exception": false,
     "start_time": "2022-07-17T12:03:43.185709",
     "status": "completed"
    },
    "tags": []
   },
   "outputs": [],
   "source": [
    "#saving video text result\n",
    "with open('recognized.txt',mode ='w') as file: \n",
    "   file.write(\"Recognized Speech:\") \n",
    "   file.write(\"\\n\") \n",
    "   file.write(result) "
   ]
  },
  {
   "cell_type": "code",
   "execution_count": 8,
   "id": "82dc1aa1",
   "metadata": {
    "execution": {
     "iopub.execute_input": "2022-07-17T12:03:43.224665Z",
     "iopub.status.busy": "2022-07-17T12:03:43.224322Z",
     "iopub.status.idle": "2022-07-17T12:03:51.783138Z",
     "shell.execute_reply": "2022-07-17T12:03:51.782041Z"
    },
    "papermill": {
     "duration": 8.572069,
     "end_time": "2022-07-17T12:03:51.785589",
     "exception": false,
     "start_time": "2022-07-17T12:03:43.213520",
     "status": "completed"
    },
    "tags": []
   },
   "outputs": [
    {
     "name": "stdout",
     "output_type": "stream",
     "text": [
      "\u001b[33mWARNING: Running pip as the 'root' user can result in broken permissions and conflicting behaviour with the system package manager. It is recommended to use a virtual environment instead: https://pip.pypa.io/warnings/venv\u001b[0m\u001b[33m\r\n",
      "\u001b[0m"
     ]
    }
   ],
   "source": [
    "!pip install -q transformers\n",
    "#Transformers functions provides a pool of pre-trained models to perform various tasks such as vision, text, and audio"
   ]
  },
  {
   "cell_type": "code",
   "execution_count": 9,
   "id": "16a4b9a2",
   "metadata": {
    "execution": {
     "iopub.execute_input": "2022-07-17T12:03:51.807337Z",
     "iopub.status.busy": "2022-07-17T12:03:51.806962Z",
     "iopub.status.idle": "2022-07-17T12:05:03.292793Z",
     "shell.execute_reply": "2022-07-17T12:05:03.292086Z"
    },
    "papermill": {
     "duration": 71.498901,
     "end_time": "2022-07-17T12:05:03.294686",
     "exception": false,
     "start_time": "2022-07-17T12:03:51.795785",
     "status": "completed"
    },
    "tags": []
   },
   "outputs": [
    {
     "data": {
      "application/vnd.jupyter.widget-view+json": {
       "model_id": "0ac23201d52744aebd6565e9520c17a2",
       "version_major": 2,
       "version_minor": 0
      },
      "text/plain": [
       "Downloading:   0%|          | 0.00/1.13k [00:00<?, ?B/s]"
      ]
     },
     "metadata": {},
     "output_type": "display_data"
    },
    {
     "data": {
      "application/vnd.jupyter.widget-view+json": {
       "model_id": "83deb95948ad451ea5a66ad0f7913408",
       "version_major": 2,
       "version_minor": 0
      },
      "text/plain": [
       "Downloading:   0%|          | 0.00/890 [00:00<?, ?B/s]"
      ]
     },
     "metadata": {},
     "output_type": "display_data"
    },
    {
     "data": {
      "application/vnd.jupyter.widget-view+json": {
       "model_id": "33d02884536747c1af3500bcad3e9320",
       "version_major": 2,
       "version_minor": 0
      },
      "text/plain": [
       "Downloading:   0%|          | 0.00/515M [00:00<?, ?B/s]"
      ]
     },
     "metadata": {},
     "output_type": "display_data"
    },
    {
     "data": {
      "application/vnd.jupyter.widget-view+json": {
       "model_id": "bfa4f73292a642e5872f38d2f8841b0a",
       "version_major": 2,
       "version_minor": 0
      },
      "text/plain": [
       "Downloading:   0%|          | 0.00/295 [00:00<?, ?B/s]"
      ]
     },
     "metadata": {},
     "output_type": "display_data"
    },
    {
     "data": {
      "application/vnd.jupyter.widget-view+json": {
       "model_id": "929261e5d09446039b8b7c1803f40624",
       "version_major": 2,
       "version_minor": 0
      },
      "text/plain": [
       "Downloading:   0%|          | 0.00/824k [00:00<?, ?B/s]"
      ]
     },
     "metadata": {},
     "output_type": "display_data"
    },
    {
     "data": {
      "application/vnd.jupyter.widget-view+json": {
       "model_id": "bf22755cf2914ba9880cfbee7993ef18",
       "version_major": 2,
       "version_minor": 0
      },
      "text/plain": [
       "Downloading:   0%|          | 0.00/1.03M [00:00<?, ?B/s]"
      ]
     },
     "metadata": {},
     "output_type": "display_data"
    },
    {
     "data": {
      "application/vnd.jupyter.widget-view+json": {
       "model_id": "7f37e4d9037c4e62b36147160b2549d9",
       "version_major": 2,
       "version_minor": 0
      },
      "text/plain": [
       "Downloading:   0%|          | 0.00/17.0 [00:00<?, ?B/s]"
      ]
     },
     "metadata": {},
     "output_type": "display_data"
    },
    {
     "data": {
      "application/vnd.jupyter.widget-view+json": {
       "model_id": "31a7b28a7d064d8dbad448057648d36f",
       "version_major": 2,
       "version_minor": 0
      },
      "text/plain": [
       "Downloading:   0%|          | 0.00/150 [00:00<?, ?B/s]"
      ]
     },
     "metadata": {},
     "output_type": "display_data"
    },
    {
     "data": {
      "text/plain": [
       "[{'label': 'POS', 'score': 0.9826006293296814}]"
      ]
     },
     "execution_count": 9,
     "metadata": {},
     "output_type": "execute_result"
    }
   ],
   "source": [
    "from transformers import pipeline\n",
    "data = [result]\n",
    "#just taking sentiment analysis model for tweets as a trained set\n",
    "specific_model = pipeline(model=\"finiteautomata/bertweet-base-sentiment-analysis\")\n",
    "#using pretrained tweet data\n",
    "specific_model(data)"
   ]
  },
  {
   "cell_type": "code",
   "execution_count": 10,
   "id": "f1629c27",
   "metadata": {
    "execution": {
     "iopub.execute_input": "2022-07-17T12:05:03.318312Z",
     "iopub.status.busy": "2022-07-17T12:05:03.317587Z",
     "iopub.status.idle": "2022-07-17T12:05:03.862615Z",
     "shell.execute_reply": "2022-07-17T12:05:03.861529Z"
    },
    "papermill": {
     "duration": 0.558889,
     "end_time": "2022-07-17T12:05:03.864527",
     "exception": false,
     "start_time": "2022-07-17T12:05:03.305638",
     "status": "completed"
    },
    "tags": []
   },
   "outputs": [
    {
     "name": "stdout",
     "output_type": "stream",
     "text": [
      "[nltk_data] Downloading package vader_lexicon to\n",
      "[nltk_data]     /usr/share/nltk_data...\n",
      "[nltk_data]   Package vader_lexicon is already up-to-date!\n"
     ]
    },
    {
     "data": {
      "text/plain": [
       "True"
      ]
     },
     "execution_count": 10,
     "metadata": {},
     "output_type": "execute_result"
    }
   ],
   "source": [
    "import nltk\n",
    "nltk.download('vader_lexicon')"
   ]
  },
  {
   "cell_type": "code",
   "execution_count": 11,
   "id": "45962d3c",
   "metadata": {
    "execution": {
     "iopub.execute_input": "2022-07-17T12:05:03.887208Z",
     "iopub.status.busy": "2022-07-17T12:05:03.886749Z",
     "iopub.status.idle": "2022-07-17T12:05:03.908662Z",
     "shell.execute_reply": "2022-07-17T12:05:03.907713Z"
    },
    "papermill": {
     "duration": 0.035424,
     "end_time": "2022-07-17T12:05:03.910670",
     "exception": false,
     "start_time": "2022-07-17T12:05:03.875246",
     "status": "completed"
    },
    "tags": []
   },
   "outputs": [],
   "source": [
    "from nltk.sentiment.vader import SentimentIntensityAnalyzer\n",
    "#Valence Aware Dictionary and sEntiment Reasoner\n",
    "v = SentimentIntensityAnalyzer()"
   ]
  },
  {
   "cell_type": "code",
   "execution_count": 12,
   "id": "227b665a",
   "metadata": {
    "execution": {
     "iopub.execute_input": "2022-07-17T12:05:03.932741Z",
     "iopub.status.busy": "2022-07-17T12:05:03.932465Z",
     "iopub.status.idle": "2022-07-17T12:05:03.938531Z",
     "shell.execute_reply": "2022-07-17T12:05:03.937625Z"
    },
    "papermill": {
     "duration": 0.019526,
     "end_time": "2022-07-17T12:05:03.940718",
     "exception": false,
     "start_time": "2022-07-17T12:05:03.921192",
     "status": "completed"
    },
    "tags": []
   },
   "outputs": [
    {
     "data": {
      "text/plain": [
       "{'neg': 0.0, 'neu': 0.183, 'pos': 0.817, 'compound': 0.836}"
      ]
     },
     "execution_count": 12,
     "metadata": {},
     "output_type": "execute_result"
    }
   ],
   "source": [
    "v.polarity_scores(result)"
   ]
  },
  {
   "cell_type": "code",
   "execution_count": 13,
   "id": "0a0384ee",
   "metadata": {
    "execution": {
     "iopub.execute_input": "2022-07-17T12:05:03.963562Z",
     "iopub.status.busy": "2022-07-17T12:05:03.963199Z",
     "iopub.status.idle": "2022-07-17T12:05:04.144102Z",
     "shell.execute_reply": "2022-07-17T12:05:04.143075Z"
    },
    "papermill": {
     "duration": 0.194729,
     "end_time": "2022-07-17T12:05:04.146045",
     "exception": false,
     "start_time": "2022-07-17T12:05:03.951316",
     "status": "completed"
    },
    "tags": []
   },
   "outputs": [
    {
     "data": {
      "text/plain": [
       "<BarContainer object of 4 artists>"
      ]
     },
     "execution_count": 13,
     "metadata": {},
     "output_type": "execute_result"
    },
    {
     "data": {
      "image/png": "[encoded data removed]",
      "text/plain": [
       "<Figure size 432x288 with 1 Axes>"
      ]
     },
     "metadata": {
      "needs_background": "light"
     },
     "output_type": "display_data"
    }
   ],
   "source": [
    "import matplotlib.pyplot as plt\n",
    "myDictionary =v.polarity_scores(result)\n",
    "plt.bar(myDictionary.keys(), myDictionary.values(), color='orange')"
   ]
  },
  {
   "cell_type": "code",
   "execution_count": 14,
   "id": "6ae37825",
   "metadata": {
    "execution": {
     "iopub.execute_input": "2022-07-17T12:05:04.169230Z",
     "iopub.status.busy": "2022-07-17T12:05:04.168906Z",
     "iopub.status.idle": "2022-07-17T12:05:04.173412Z",
     "shell.execute_reply": "2022-07-17T12:05:04.172588Z"
    },
    "papermill": {
     "duration": 0.017973,
     "end_time": "2022-07-17T12:05:04.175247",
     "exception": false,
     "start_time": "2022-07-17T12:05:04.157274",
     "status": "completed"
    },
    "tags": []
   },
   "outputs": [],
   "source": [
    "res=v.polarity_scores(result)"
   ]
  },
  {
   "cell_type": "code",
   "execution_count": 15,
   "id": "cb0db87f",
   "metadata": {
    "execution": {
     "iopub.execute_input": "2022-07-17T12:05:04.198300Z",
     "iopub.status.busy": "2022-07-17T12:05:04.197796Z",
     "iopub.status.idle": "2022-07-17T12:05:04.202199Z",
     "shell.execute_reply": "2022-07-17T12:05:04.201541Z"
    },
    "papermill": {
     "duration": 0.017999,
     "end_time": "2022-07-17T12:05:04.203990",
     "exception": false,
     "start_time": "2022-07-17T12:05:04.185991",
     "status": "completed"
    },
    "tags": []
   },
   "outputs": [],
   "source": [
    "posscore=res['pos']\n",
    "negscore=res['neg']\n",
    "neuscore=res['neu']\n",
    "compoundscore=res['compound']"
   ]
  },
  {
   "cell_type": "code",
   "execution_count": 16,
   "id": "de6dbec8",
   "metadata": {
    "execution": {
     "iopub.execute_input": "2022-07-17T12:05:04.226913Z",
     "iopub.status.busy": "2022-07-17T12:05:04.226424Z",
     "iopub.status.idle": "2022-07-17T12:05:04.233331Z",
     "shell.execute_reply": "2022-07-17T12:05:04.231817Z"
    },
    "papermill": {
     "duration": 0.021247,
     "end_time": "2022-07-17T12:05:04.235934",
     "exception": false,
     "start_time": "2022-07-17T12:05:04.214687",
     "status": "completed"
    },
    "tags": []
   },
   "outputs": [
    {
     "name": "stdout",
     "output_type": "stream",
     "text": [
      "\n",
      "Positive Score :\n",
      "0.8\n",
      "\n",
      "Negative Score :\n",
      "0.0\n"
     ]
    }
   ],
   "source": [
    "print(\"\\nPositive Score :\")    \n",
    "if (posscore==1):\n",
    "    posscore=0.9 \n",
    "else:\n",
    "    posscore=round(posscore,1)\n",
    "print(posscore)\n",
    "\n",
    "print(\"\\nNegative Score :\")\n",
    "if (negscore==1):\n",
    "    negscore=0.9\n",
    "else:\n",
    "    negscore=round(negscore,1)\n",
    "print(negscore)"
   ]
  },
  {
   "cell_type": "code",
   "execution_count": 17,
   "id": "4e86284f",
   "metadata": {
    "execution": {
     "iopub.execute_input": "2022-07-17T12:05:04.259441Z",
     "iopub.status.busy": "2022-07-17T12:05:04.258905Z",
     "iopub.status.idle": "2022-07-17T12:05:16.532881Z",
     "shell.execute_reply": "2022-07-17T12:05:16.531572Z"
    },
    "papermill": {
     "duration": 12.288185,
     "end_time": "2022-07-17T12:05:16.535305",
     "exception": false,
     "start_time": "2022-07-17T12:05:04.247120",
     "status": "completed"
    },
    "tags": []
   },
   "outputs": [
    {
     "name": "stdout",
     "output_type": "stream",
     "text": [
      "Collecting scikit-fuzzy\r\n",
      "  Downloading scikit-fuzzy-0.4.2.tar.gz (993 kB)\r\n",
      "\u001b[2K     \u001b[90m━━━━━━━━━━━━━━━━━━━━━━━━━━━━━━━━━━━━━━━\u001b[0m \u001b[32m994.0/994.0 kB\u001b[0m \u001b[31m2.4 MB/s\u001b[0m eta \u001b[36m0:00:00\u001b[0m\r\n",
      "\u001b[?25h  Preparing metadata (setup.py) ... \u001b[?25l-\b \bdone\r\n",
      "\u001b[?25hRequirement already satisfied: numpy>=1.6.0 in /opt/conda/lib/python3.7/site-packages (from scikit-fuzzy) (1.21.6)\r\n",
      "Requirement already satisfied: scipy>=0.9.0 in /opt/conda/lib/python3.7/site-packages (from scikit-fuzzy) (1.7.3)\r\n",
      "Requirement already satisfied: networkx>=1.9.0 in /opt/conda/lib/python3.7/site-packages (from scikit-fuzzy) (2.5)\r\n",
      "Requirement already satisfied: decorator>=4.3.0 in /opt/conda/lib/python3.7/site-packages (from networkx>=1.9.0->scikit-fuzzy) (4.4.2)\r\n",
      "Building wheels for collected packages: scikit-fuzzy\r\n",
      "  Building wheel for scikit-fuzzy (setup.py) ... \u001b[?25l-\b \b\\\b \bdone\r\n",
      "\u001b[?25h  Created wheel for scikit-fuzzy: filename=scikit_fuzzy-0.4.2-py3-none-any.whl size=894089 sha256=8b0f60f5974e97945b825bb50054c30334bc0c2fb581a030e59d623c2a44fe1f\r\n",
      "  Stored in directory: /root/.cache/pip/wheels/d5/74/fc/38588a3d2e3f34f74588e6daa3aa5b0a322bd6f9420a707131\r\n",
      "Successfully built scikit-fuzzy\r\n",
      "Installing collected packages: scikit-fuzzy\r\n",
      "Successfully installed scikit-fuzzy-0.4.2\r\n",
      "\u001b[33mWARNING: Running pip as the 'root' user can result in broken permissions and conflicting behaviour with the system package manager. It is recommended to use a virtual environment instead: https://pip.pypa.io/warnings/venv\u001b[0m\u001b[33m\r\n",
      "\u001b[0m"
     ]
    }
   ],
   "source": [
    "!pip install -U scikit-fuzzy\n",
    "import skfuzzy as fuzz"
   ]
  },
  {
   "cell_type": "code",
   "execution_count": 18,
   "id": "cc853c42",
   "metadata": {
    "execution": {
     "iopub.execute_input": "2022-07-17T12:05:16.561337Z",
     "iopub.status.busy": "2022-07-17T12:05:16.560703Z",
     "iopub.status.idle": "2022-07-17T12:05:16.565595Z",
     "shell.execute_reply": "2022-07-17T12:05:16.564647Z"
    },
    "papermill": {
     "duration": 0.019796,
     "end_time": "2022-07-17T12:05:16.567484",
     "exception": false,
     "start_time": "2022-07-17T12:05:16.547688",
     "status": "completed"
    },
    "tags": []
   },
   "outputs": [],
   "source": [
    "import pandas as pd\n",
    "import re\n",
    "import numpy as np\n",
    "import matplotlib.pyplot as plt"
   ]
  },
  {
   "cell_type": "code",
   "execution_count": 19,
   "id": "02461c0c",
   "metadata": {
    "execution": {
     "iopub.execute_input": "2022-07-17T12:05:16.593541Z",
     "iopub.status.busy": "2022-07-17T12:05:16.593256Z",
     "iopub.status.idle": "2022-07-17T12:05:16.597994Z",
     "shell.execute_reply": "2022-07-17T12:05:16.597053Z"
    },
    "papermill": {
     "duration": 0.020637,
     "end_time": "2022-07-17T12:05:16.599902",
     "exception": false,
     "start_time": "2022-07-17T12:05:16.579265",
     "status": "completed"
    },
    "tags": []
   },
   "outputs": [],
   "source": [
    "# Generate universe variables\n",
    "#   * pos and neg on subjective ranges [0, 1]\n",
    "#   * op has a range of [0, 10] in units of percentage points\n",
    "x_p = np.arange(0, 1, 0.1)\n",
    "x_n = np.arange(0, 1, 0.1)\n",
    "x_op = np.arange(0, 10, 1)\n"
   ]
  },
  {
   "cell_type": "code",
   "execution_count": 20,
   "id": "9b1472a7",
   "metadata": {
    "execution": {
     "iopub.execute_input": "2022-07-17T12:05:16.624540Z",
     "iopub.status.busy": "2022-07-17T12:05:16.624264Z",
     "iopub.status.idle": "2022-07-17T12:05:16.632470Z",
     "shell.execute_reply": "2022-07-17T12:05:16.631432Z"
    },
    "papermill": {
     "duration": 0.022855,
     "end_time": "2022-07-17T12:05:16.634456",
     "exception": false,
     "start_time": "2022-07-17T12:05:16.611601",
     "status": "completed"
    },
    "tags": []
   },
   "outputs": [],
   "source": [
    "# Generate fuzzy membership functions\n",
    "p_lo = fuzz.trimf(x_p, [0, 0, 0.5])\n",
    "p_md = fuzz.trimf(x_p, [0, 0.5, 1])\n",
    "p_hi = fuzz.trimf(x_p, [0.5, 1, 1])\n",
    "n_lo = fuzz.trimf(x_n, [0, 0, 0.5])\n",
    "n_md = fuzz.trimf(x_n, [0, 0.5, 1])\n",
    "n_hi = fuzz.trimf(x_n, [0.5, 1, 1])\n",
    "op_Neg = fuzz.trimf(x_op, [0, 0, 5])  # Scale : Neg Neu Pos\n",
    "op_Neu = fuzz.trimf(x_op, [0, 5, 10])\n",
    "op_Pos = fuzz.trimf(x_op, [5, 10, 10])"
   ]
  },
  {
   "cell_type": "code",
   "execution_count": 21,
   "id": "6bc2b26c",
   "metadata": {
    "execution": {
     "iopub.execute_input": "2022-07-17T12:05:16.658983Z",
     "iopub.status.busy": "2022-07-17T12:05:16.658707Z",
     "iopub.status.idle": "2022-07-17T12:05:17.083940Z",
     "shell.execute_reply": "2022-07-17T12:05:17.083207Z"
    },
    "papermill": {
     "duration": 0.439715,
     "end_time": "2022-07-17T12:05:17.085811",
     "exception": false,
     "start_time": "2022-07-17T12:05:16.646096",
     "status": "completed"
    },
    "tags": []
   },
   "outputs": [
    {
     "data": {
      "text/plain": [
       "<matplotlib.legend.Legend at 0x7fe6b9d5d910>"
      ]
     },
     "execution_count": 21,
     "metadata": {},
     "output_type": "execute_result"
    },
    {
     "data": {
      "image/png": "[encoded data removed]",
      "text/plain": [
       "<Figure size 576x648 with 3 Axes>"
      ]
     },
     "metadata": {
      "needs_background": "light"
     },
     "output_type": "display_data"
    }
   ],
   "source": [
    "# Visualize these universes and membership functions\n",
    "fig, (ax0, ax1, ax2) = plt.subplots(nrows=3, figsize=(8, 9))\n",
    "#\n",
    "ax0.plot(x_p, p_lo, 'b', linewidth=1.5, label='Low')\n",
    "ax0.plot(x_p, p_md, 'g', linewidth=1.5, label='Medium')\n",
    "ax0.plot(x_p, p_hi, 'r', linewidth=1.5, label='High')\n",
    "ax0.set_title('Pos')\n",
    "ax0.legend()\n",
    "\n",
    "ax1.plot(x_n, n_lo, 'b', linewidth=1.5, label='Low')\n",
    "ax1.plot(x_n, n_md, 'g', linewidth=1.5, label='Medium')\n",
    "ax1.plot(x_n, n_hi, 'r', linewidth=1.5, label='High')\n",
    "ax1.set_title('Neg')\n",
    "ax1.legend()\n",
    "\n",
    "ax2.plot(x_op, op_Pos, 'b', linewidth=1.5, label='Negative')\n",
    "ax2.plot(x_op, op_Neu, 'g', linewidth=1.5, label='Neutral')\n",
    "ax2.plot(x_op, op_Neg, 'r', linewidth=1.5, label='Positive')\n",
    "ax2.set_title('Output')\n",
    "ax2.legend()"
   ]
  },
  {
   "cell_type": "code",
   "execution_count": 22,
   "id": "540b71d6",
   "metadata": {
    "execution": {
     "iopub.execute_input": "2022-07-17T12:05:17.113706Z",
     "iopub.status.busy": "2022-07-17T12:05:17.112922Z",
     "iopub.status.idle": "2022-07-17T12:05:17.116629Z",
     "shell.execute_reply": "2022-07-17T12:05:17.115998Z"
    },
    "papermill": {
     "duration": 0.019399,
     "end_time": "2022-07-17T12:05:17.118516",
     "exception": false,
     "start_time": "2022-07-17T12:05:17.099117",
     "status": "completed"
    },
    "tags": []
   },
   "outputs": [],
   "source": [
    "sentiment=[]\n",
    "sentiment_doc=[]"
   ]
  },
  {
   "cell_type": "code",
   "execution_count": 23,
   "id": "69d9297a",
   "metadata": {
    "execution": {
     "iopub.execute_input": "2022-07-17T12:05:17.146095Z",
     "iopub.status.busy": "2022-07-17T12:05:17.145349Z",
     "iopub.status.idle": "2022-07-17T12:05:17.150850Z",
     "shell.execute_reply": "2022-07-17T12:05:17.150046Z"
    },
    "papermill": {
     "duration": 0.021208,
     "end_time": "2022-07-17T12:05:17.152777",
     "exception": false,
     "start_time": "2022-07-17T12:05:17.131569",
     "status": "completed"
    },
    "tags": []
   },
   "outputs": [],
   "source": [
    "# We need the activation of our fuzzy membership functions at these values.\n",
    "p_level_lo = fuzz.interp_membership(x_p, p_lo, posscore)\n",
    "p_level_md = fuzz.interp_membership(x_p, p_md, posscore)\n",
    "p_level_hi = fuzz.interp_membership(x_p, p_hi, posscore)\n",
    "    \n",
    "n_level_lo = fuzz.interp_membership(x_n, n_lo, negscore)\n",
    "n_level_md = fuzz.interp_membership(x_n, n_md, negscore)\n",
    "n_level_hi = fuzz.interp_membership(x_n, n_hi, negscore)"
   ]
  },
  {
   "cell_type": "code",
   "execution_count": 24,
   "id": "c9710651",
   "metadata": {
    "execution": {
     "iopub.execute_input": "2022-07-17T12:05:17.179592Z",
     "iopub.status.busy": "2022-07-17T12:05:17.179020Z",
     "iopub.status.idle": "2022-07-17T12:05:17.185120Z",
     "shell.execute_reply": "2022-07-17T12:05:17.184152Z"
    },
    "papermill": {
     "duration": 0.021491,
     "end_time": "2022-07-17T12:05:17.186971",
     "exception": false,
     "start_time": "2022-07-17T12:05:17.165480",
     "status": "completed"
    },
    "tags": []
   },
   "outputs": [],
   "source": [
    "#defining rules\n",
    "active_rule1 = np.fmin(p_level_lo, n_level_lo)\n",
    "active_rule2 = np.fmin(p_level_md, n_level_lo)\n",
    "active_rule3 = np.fmin(p_level_hi, n_level_lo)\n",
    "active_rule4 = np.fmin(p_level_lo, n_level_md)\n",
    "active_rule5 = np.fmin(p_level_md, n_level_md)\n",
    "active_rule6 = np.fmin(p_level_hi, n_level_md)\n",
    "active_rule7 = np.fmin(p_level_lo, n_level_hi)\n",
    "active_rule8 = np.fmin(p_level_md, n_level_hi)\n",
    "active_rule9 = np.fmin(p_level_hi, n_level_hi)"
   ]
  },
  {
   "cell_type": "code",
   "execution_count": 25,
   "id": "bb6b8f27",
   "metadata": {
    "execution": {
     "iopub.execute_input": "2022-07-17T12:05:17.213755Z",
     "iopub.status.busy": "2022-07-17T12:05:17.213280Z",
     "iopub.status.idle": "2022-07-17T12:05:17.219506Z",
     "shell.execute_reply": "2022-07-17T12:05:17.218835Z"
    },
    "papermill": {
     "duration": 0.021587,
     "end_time": "2022-07-17T12:05:17.221237",
     "exception": false,
     "start_time": "2022-07-17T12:05:17.199650",
     "status": "completed"
    },
    "tags": []
   },
   "outputs": [],
   "source": [
    "# Now we apply this by clipping the top off the corresponding output\n",
    "# membership function with `np.fmin`\n",
    "    \n",
    "n1=np.fmax(active_rule4,active_rule7)\n",
    "n2=np.fmax(n1,active_rule8)     \n",
    "op_activation_lo = np.fmin(n2,op_Neg)\n",
    "    \n",
    "neu1=np.fmax(active_rule1,active_rule5)\n",
    "neu2=np.fmax(neu1,active_rule9)     \n",
    "op_activation_md = np.fmin(neu2,op_Neu)\n",
    "    \n",
    "p1=np.fmax(active_rule2,active_rule3)\n",
    "p2=np.fmax(p1,active_rule6)   \n",
    "op_activation_hi = np.fmin(p2,op_Pos)\n",
    "    \n",
    "op0 = np.zeros_like(x_op)"
   ]
  },
  {
   "cell_type": "code",
   "execution_count": 26,
   "id": "707c09a5",
   "metadata": {
    "execution": {
     "iopub.execute_input": "2022-07-17T12:05:17.247829Z",
     "iopub.status.busy": "2022-07-17T12:05:17.247525Z",
     "iopub.status.idle": "2022-07-17T12:05:17.251799Z",
     "shell.execute_reply": "2022-07-17T12:05:17.250925Z"
    },
    "papermill": {
     "duration": 0.019895,
     "end_time": "2022-07-17T12:05:17.253774",
     "exception": false,
     "start_time": "2022-07-17T12:05:17.233879",
     "status": "completed"
    },
    "tags": []
   },
   "outputs": [],
   "source": [
    "# Aggregate all three output membership functions together\n",
    "aggregated = np.fmax(op_activation_lo,np.fmax(op_activation_md, op_activation_hi))"
   ]
  },
  {
   "cell_type": "code",
   "execution_count": 27,
   "id": "546a66d9",
   "metadata": {
    "execution": {
     "iopub.execute_input": "2022-07-17T12:05:17.280548Z",
     "iopub.status.busy": "2022-07-17T12:05:17.279957Z",
     "iopub.status.idle": "2022-07-17T12:05:17.284358Z",
     "shell.execute_reply": "2022-07-17T12:05:17.283555Z"
    },
    "papermill": {
     "duration": 0.019654,
     "end_time": "2022-07-17T12:05:17.286101",
     "exception": false,
     "start_time": "2022-07-17T12:05:17.266447",
     "status": "completed"
    },
    "tags": []
   },
   "outputs": [],
   "source": [
    "# Calculate defuzzified result\n",
    "op = fuzz.defuzz(x_op, aggregated, 'centroid')\n",
    "output=round(op,2)\n",
    "\n",
    "op_activation = fuzz.interp_membership(x_op, aggregated, op)"
   ]
  },
  {
   "cell_type": "code",
   "execution_count": 28,
   "id": "09230545",
   "metadata": {
    "execution": {
     "iopub.execute_input": "2022-07-17T12:05:17.312863Z",
     "iopub.status.busy": "2022-07-17T12:05:17.312566Z",
     "iopub.status.idle": "2022-07-17T12:05:17.508872Z",
     "shell.execute_reply": "2022-07-17T12:05:17.507845Z"
    },
    "papermill": {
     "duration": 0.212167,
     "end_time": "2022-07-17T12:05:17.510873",
     "exception": false,
     "start_time": "2022-07-17T12:05:17.298706",
     "status": "completed"
    },
    "tags": []
   },
   "outputs": [
    {
     "data": {
      "text/plain": [
       "<matplotlib.legend.Legend at 0x7fe6b83f3b50>"
      ]
     },
     "execution_count": 28,
     "metadata": {},
     "output_type": "execute_result"
    },
    {
     "data": {
      "image/png": "[encoded data removed]",
      "text/plain": [
       "<Figure size 576x216 with 1 Axes>"
      ]
     },
     "metadata": {
      "needs_background": "light"
     },
     "output_type": "display_data"
    }
   ],
   "source": [
    "# Visualize Output Membership\n",
    "fig, ax0 = plt.subplots(figsize=(8, 3))\n",
    "    \n",
    "ax0.fill_between(x_op, op0, op_activation_lo, facecolor='b', alpha=0.7)\n",
    "ax0.plot(x_op, op_Neg, 'b', linewidth=0.5, linestyle='--',label= 'Negative' )\n",
    "ax0.fill_between(x_op, op0, op_activation_md, facecolor='g', alpha=0.7)\n",
    "ax0.plot(x_op, op_Neu, 'g', linewidth=0.5, linestyle='--', label='Neutral')\n",
    "ax0.fill_between(x_op, op0, op_activation_hi, facecolor='r', alpha=0.7)\n",
    "ax0.plot(x_op, op_Pos, 'r', linewidth=0.5, linestyle='--', label='Positive')\n",
    "ax0.plot([op, op], [0, op_activation], 'k', linewidth=1.5, alpha=0.9)\n",
    "ax0.set_title('Output membership activity')\n",
    "ax0.legend()"
   ]
  },
  {
   "cell_type": "code",
   "execution_count": 29,
   "id": "33fe635a",
   "metadata": {
    "execution": {
     "iopub.execute_input": "2022-07-17T12:05:17.539451Z",
     "iopub.status.busy": "2022-07-17T12:05:17.539135Z",
     "iopub.status.idle": "2022-07-17T12:05:17.547203Z",
     "shell.execute_reply": "2022-07-17T12:05:17.545615Z"
    },
    "papermill": {
     "duration": 0.025805,
     "end_time": "2022-07-17T12:05:17.550307",
     "exception": false,
     "start_time": "2022-07-17T12:05:17.524502",
     "status": "completed"
    },
    "tags": []
   },
   "outputs": [
    {
     "name": "stdout",
     "output_type": "stream",
     "text": [
      "\n",
      "Firing Strength of Negative (wneg): 0.0\n",
      "Firing Strength of Neutral (wneu): 0.0\n",
      "Firing Strength of Positive (wpos): 0.6\n",
      "\n",
      "Resultant consequents MFs:\n",
      "op_activation_low: [0. 0. 0. 0. 0. 0. 0. 0. 0. 0.]\n",
      "op_activation_med: [0. 0. 0. 0. 0. 0. 0. 0. 0. 0.]\n",
      "op_activation_high: [0.  0.  0.  0.  0.  0.  0.2 0.4 0.6 0.6]\n",
      "\n",
      "Aggregated Output: [0.  0.  0.  0.  0.  0.  0.2 0.4 0.6 0.6]\n",
      "\n",
      "Defuzzified Output: 7.6\n"
     ]
    }
   ],
   "source": [
    "print(\"\\nFiring Strength of Negative (wneg): \"+str(round(n2,4)))\n",
    "print(\"Firing Strength of Neutral (wneu): \"+str(round(neu2,4)))\n",
    "print(\"Firing Strength of Positive (wpos): \"+str(round(p2,4)))\n",
    "    \n",
    "print(\"\\nResultant consequents MFs:\" )\n",
    "print(\"op_activation_low: \"+str(op_activation_lo))\n",
    "print(\"op_activation_med: \"+str(op_activation_md))\n",
    "print(\"op_activation_high: \"+str(op_activation_hi))\n",
    "    \n",
    "print(\"\\nAggregated Output: \"+str(aggregated))\n",
    "\n",
    "print(\"\\nDefuzzified Output: \"+str(output))"
   ]
  },
  {
   "cell_type": "code",
   "execution_count": 30,
   "id": "ba80c22a",
   "metadata": {
    "execution": {
     "iopub.execute_input": "2022-07-17T12:05:17.597286Z",
     "iopub.status.busy": "2022-07-17T12:05:17.596128Z",
     "iopub.status.idle": "2022-07-17T12:05:17.604256Z",
     "shell.execute_reply": "2022-07-17T12:05:17.603040Z"
    },
    "papermill": {
     "duration": 0.034528,
     "end_time": "2022-07-17T12:05:17.606296",
     "exception": false,
     "start_time": "2022-07-17T12:05:17.571768",
     "status": "completed"
    },
    "tags": []
   },
   "outputs": [
    {
     "name": "stdout",
     "output_type": "stream",
     "text": [
      "\n",
      "Output after Defuzzification: Positive\n"
     ]
    }
   ],
   "source": [
    "# Scale : Neg Neu Pos   \n",
    "if 0<(output)<3.33:    \n",
    "  print(\"\\nOutput after Defuzzification: Negative\")\n",
    "  sentiment.append(\"Negative\")\n",
    "        \n",
    "elif 3.34<(output)<6.66:\n",
    "  print(\"\\nOutput after Defuzzification: Neutral\")\n",
    "  sentiment.append(\"Neutral\")\n",
    "   \n",
    "elif 6.67<(output)<10:\n",
    "  print(\"\\nOutput after Defuzzification: Positive\")\n",
    "  sentiment.append(\"Positive\")"
   ]
  },
  {
   "cell_type": "code",
   "execution_count": null,
   "id": "5a4429d1",
   "metadata": {
    "papermill": {
     "duration": 0.017461,
     "end_time": "2022-07-17T12:05:17.641704",
     "exception": false,
     "start_time": "2022-07-17T12:05:17.624243",
     "status": "completed"
    },
    "tags": []
   },
   "outputs": [],
   "source": []
  }
 ],
 "metadata": {
  "kernelspec": {
   "display_name": "Python 3",
   "language": "python",
   "name": "python3"
  },
  "language_info": {
   "codemirror_mode": {
    "name": "ipython",
    "version": 3
   },
   "file_extension": ".py",
   "mimetype": "text/x-python",
   "name": "python",
   "nbconvert_exporter": "python",
   "pygments_lexer": "ipython3",
   "version": "3.7.12"
  },
  "papermill": {
   "default_parameters": {},
   "duration": 134.371346,
   "end_time": "2022-07-17T12:05:20.948365",
   "environment_variables": {},
   "exception": null,
   "input_path": "__notebook__.ipynb",
   "output_path": "__notebook__.ipynb",
   "parameters": {},
   "start_time": "2022-07-17T12:03:06.577019",
   "version": "2.3.4"
  },
  "widgets": {
   "application/vnd.jupyter.widget-state+json": {
    "state": {
     "052661c427d44b05afc87279aeec5baa": {
      "model_module": "@jupyter-widgets/controls",
      "model_module_version": "1.5.0",
      "model_name": "HTMLModel",
      "state": {
       "_dom_classes": [],
       "_model_module": "@jupyter-widgets/controls",
       "_model_module_version": "1.5.0",
       "_model_name": "HTMLModel",
       "_view_count": null,
       "_view_module": "@jupyter-widgets/controls",
       "_view_module_version": "1.5.0",
       "_view_name": "HTMLView",
       "description": "",
       "description_tooltip": null,
       "layout": "IPY_MODEL_94a749d67e1f4061a5ad38bda7aae41a",
       "placeholder": "​",
       "style": "IPY_MODEL_edd5cf5bd8eb4823b0aade4058405638",
       "value": "Downloading: 100%"
      }
     },
     "073958e210de4ca6acf1b2071baa046a": {
      "model_module": "@jupyter-widgets/base",
      "model_module_version": "1.2.0",
      "model_name": "LayoutModel",
      "state": {
       "_model_module": "@jupyter-widgets/base",
       "_model_module_version": "1.2.0",
       "_model_name": "LayoutModel",
       "_view_count": null,
       "_view_module": "@jupyter-widgets/base",
       "_view_module_version": "1.2.0",
       "_view_name": "LayoutView",
       "align_content": null,
       "align_items": null,
       "align_self": null,
       "border": null,
       "bottom": null,
       "display": null,
       "flex": null,
       "flex_flow": null,
       "grid_area": null,
       "grid_auto_columns": null,
       "grid_auto_flow": null,
       "grid_auto_rows": null,
       "grid_column": null,
       "grid_gap": null,
       "grid_row": null,
       "grid_template_areas": null,
       "grid_template_columns": null,
       "grid_template_rows": null,
       "height": null,
       "justify_content": null,
       "justify_items": null,
       "left": null,
       "margin": null,
       "max_height": null,
       "max_width": null,
       "min_height": null,
       "min_width": null,
       "object_fit": null,
       "object_position": null,
       "order": null,
       "overflow": null,
       "overflow_x": null,
       "overflow_y": null,
       "padding": null,
       "right": null,
       "top": null,
       "visibility": null,
       "width": null
      }
     },
     "0ac23201d52744aebd6565e9520c17a2": {
      "model_module": "@jupyter-widgets/controls",
      "model_module_version": "1.5.0",
      "model_name": "HBoxModel",
      "state": {
       "_dom_classes": [],
       "_model_module": "@jupyter-widgets/controls",
       "_model_module_version": "1.5.0",
       "_model_name": "HBoxModel",
       "_view_count": null,
       "_view_module": "@jupyter-widgets/controls",
       "_view_module_version": "1.5.0",
       "_view_name": "HBoxView",
       "box_style": "",
       "children": [
        "IPY_MODEL_60e4116115864020a0b7c14602857628",
        "IPY_MODEL_3835cf35843b4d8f86b0584bf85e40e5",
        "IPY_MODEL_dcd1a272f4dd42359553765a641c32a7"
       ],
       "layout": "IPY_MODEL_1b2174925adc48baa7ee2f0c6b583175"
      }
     },
     "0b2fee9aa206437ba59ff5870b16622d": {
      "model_module": "@jupyter-widgets/controls",
      "model_module_version": "1.5.0",
      "model_name": "DescriptionStyleModel",
      "state": {
       "_model_module": "@jupyter-widgets/controls",
       "_model_module_version": "1.5.0",
       "_model_name": "DescriptionStyleModel",
       "_view_count": null,
       "_view_module": "@jupyter-widgets/base",
       "_view_module_version": "1.2.0",
       "_view_name": "StyleView",
       "description_width": ""
      }
     },
     "0fd032003f5f4f8c80d7cceb7bcb2c86": {
      "model_module": "@jupyter-widgets/base",
      "model_module_version": "1.2.0",
      "model_name": "LayoutModel",
      "state": {
       "_model_module": "@jupyter-widgets/base",
       "_model_module_version": "1.2.0",
       "_model_name": "LayoutModel",
       "_view_count": null,
       "_view_module": "@jupyter-widgets/base",
       "_view_module_version": "1.2.0",
       "_view_name": "LayoutView",
       "align_content": null,
       "align_items": null,
       "align_self": null,
       "border": null,
       "bottom": null,
       "display": null,
       "flex": null,
       "flex_flow": null,
       "grid_area": null,
       "grid_auto_columns": null,
       "grid_auto_flow": null,
       "grid_auto_rows": null,
       "grid_column": null,
       "grid_gap": null,
       "grid_row": null,
       "grid_template_areas": null,
       "grid_template_columns": null,
       "grid_template_rows": null,
       "height": null,
       "justify_content": null,
       "justify_items": null,
       "left": null,
       "margin": null,
       "max_height": null,
       "max_width": null,
       "min_height": null,
       "min_width": null,
       "object_fit": null,
       "object_position": null,
       "order": null,
       "overflow": null,
       "overflow_x": null,
       "overflow_y": null,
       "padding": null,
       "right": null,
       "top": null,
       "visibility": null,
       "width": null
      }
     },
     "1344e051544642d9a66d2be3b9dc28ea": {
      "model_module": "@jupyter-widgets/base",
      "model_module_version": "1.2.0",
      "model_name": "LayoutModel",
      "state": {
       "_model_module": "@jupyter-widgets/base",
       "_model_module_version": "1.2.0",
       "_model_name": "LayoutModel",
       "_view_count": null,
       "_view_module": "@jupyter-widgets/base",
       "_view_module_version": "1.2.0",
       "_view_name": "LayoutView",
       "align_content": null,
       "align_items": null,
       "align_self": null,
       "border": null,
       "bottom": null,
       "display": null,
       "flex": null,
       "flex_flow": null,
       "grid_area": null,
       "grid_auto_columns": null,
       "grid_auto_flow": null,
       "grid_auto_rows": null,
       "grid_column": null,
       "grid_gap": null,
       "grid_row": null,
       "grid_template_areas": null,
       "grid_template_columns": null,
       "grid_template_rows": null,
       "height": null,
       "justify_content": null,
       "justify_items": null,
       "left": null,
       "margin": null,
       "max_height": null,
       "max_width": null,
       "min_height": null,
       "min_width": null,
       "object_fit": null,
       "object_position": null,
       "order": null,
       "overflow": null,
       "overflow_x": null,
       "overflow_y": null,
       "padding": null,
       "right": null,
       "top": null,
       "visibility": null,
       "width": null
      }
     },
     "15d8655331e7437394626dc03326ca68": {
      "model_module": "@jupyter-widgets/controls",
      "model_module_version": "1.5.0",
      "model_name": "HTMLModel",
      "state": {
       "_dom_classes": [],
       "_model_module": "@jupyter-widgets/controls",
       "_model_module_version": "1.5.0",
       "_model_name": "HTMLModel",
       "_view_count": null,
       "_view_module": "@jupyter-widgets/controls",
       "_view_module_version": "1.5.0",
       "_view_name": "HTMLView",
       "description": "",
       "description_tooltip": null,
       "layout": "IPY_MODEL_073958e210de4ca6acf1b2071baa046a",
       "placeholder": "​",
       "style": "IPY_MODEL_a777aa4701164ad18a64827004d813ef",
       "value": " 515M/515M [00:46&lt;00:00, 12.3MB/s]"
      }
     },
     "16aa2ccd90194d43b5443a35096e86a1": {
      "model_module": "@jupyter-widgets/base",
      "model_module_version": "1.2.0",
      "model_name": "LayoutModel",
      "state": {
       "_model_module": "@jupyter-widgets/base",
       "_model_module_version": "1.2.0",
       "_model_name": "LayoutModel",
       "_view_count": null,
       "_view_module": "@jupyter-widgets/base",
       "_view_module_version": "1.2.0",
       "_view_name": "LayoutView",
       "align_content": null,
       "align_items": null,
       "align_self": null,
       "border": null,
       "bottom": null,
       "display": null,
       "flex": null,
       "flex_flow": null,
       "grid_area": null,
       "grid_auto_columns": null,
       "grid_auto_flow": null,
       "grid_auto_rows": null,
       "grid_column": null,
       "grid_gap": null,
       "grid_row": null,
       "grid_template_areas": null,
       "grid_template_columns": null,
       "grid_template_rows": null,
       "height": null,
       "justify_content": null,
       "justify_items": null,
       "left": null,
       "margin": null,
       "max_height": null,
       "max_width": null,
       "min_height": null,
       "min_width": null,
       "object_fit": null,
       "object_position": null,
       "order": null,
       "overflow": null,
       "overflow_x": null,
       "overflow_y": null,
       "padding": null,
       "right": null,
       "top": null,
       "visibility": null,
       "width": null
      }
     },
     "1b2174925adc48baa7ee2f0c6b583175": {
      "model_module": "@jupyter-widgets/base",
      "model_module_version": "1.2.0",
      "model_name": "LayoutModel",
      "state": {
       "_model_module": "@jupyter-widgets/base",
       "_model_module_version": "1.2.0",
       "_model_name": "LayoutModel",
       "_view_count": null,
       "_view_module": "@jupyter-widgets/base",
       "_view_module_version": "1.2.0",
       "_view_name": "LayoutView",
       "align_content": null,
       "align_items": null,
       "align_self": null,
       "border": null,
       "bottom": null,
       "display": null,
       "flex": null,
       "flex_flow": null,
       "grid_area": null,
       "grid_auto_columns": null,
       "grid_auto_flow": null,
       "grid_auto_rows": null,
       "grid_column": null,
       "grid_gap": null,
       "grid_row": null,
       "grid_template_areas": null,
       "grid_template_columns": null,
       "grid_template_rows": null,
       "height": null,
       "justify_content": null,
       "justify_items": null,
       "left": null,
       "margin": null,
       "max_height": null,
       "max_width": null,
       "min_height": null,
       "min_width": null,
       "object_fit": null,
       "object_position": null,
       "order": null,
       "overflow": null,
       "overflow_x": null,
       "overflow_y": null,
       "padding": null,
       "right": null,
       "top": null,
       "visibility": null,
       "width": null
      }
     },
     "214710b2b696438c83334a661bef5272": {
      "model_module": "@jupyter-widgets/controls",
      "model_module_version": "1.5.0",
      "model_name": "DescriptionStyleModel",
      "state": {
       "_model_module": "@jupyter-widgets/controls",
       "_model_module_version": "1.5.0",
       "_model_name": "DescriptionStyleModel",
       "_view_count": null,
       "_view_module": "@jupyter-widgets/base",
       "_view_module_version": "1.2.0",
       "_view_name": "StyleView",
       "description_width": ""
      }
     },
     "280378f944da4fc9a8fa9aa7fe8b8b73": {
      "model_module": "@jupyter-widgets/base",
      "model_module_version": "1.2.0",
      "model_name": "LayoutModel",
      "state": {
       "_model_module": "@jupyter-widgets/base",
       "_model_module_version": "1.2.0",
       "_model_name": "LayoutModel",
       "_view_count": null,
       "_view_module": "@jupyter-widgets/base",
       "_view_module_version": "1.2.0",
       "_view_name": "LayoutView",
       "align_content": null,
       "align_items": null,
       "align_self": null,
       "border": null,
       "bottom": null,
       "display": null,
       "flex": null,
       "flex_flow": null,
       "grid_area": null,
       "grid_auto_columns": null,
       "grid_auto_flow": null,
       "grid_auto_rows": null,
       "grid_column": null,
       "grid_gap": null,
       "grid_row": null,
       "grid_template_areas": null,
       "grid_template_columns": null,
       "grid_template_rows": null,
       "height": null,
       "justify_content": null,
       "justify_items": null,
       "left": null,
       "margin": null,
       "max_height": null,
       "max_width": null,
       "min_height": null,
       "min_width": null,
       "object_fit": null,
       "object_position": null,
       "order": null,
       "overflow": null,
       "overflow_x": null,
       "overflow_y": null,
       "padding": null,
       "right": null,
       "top": null,
       "visibility": null,
       "width": null
      }
     },
     "28b5f5e756da4d26936d06095a7908fa": {
      "model_module": "@jupyter-widgets/controls",
      "model_module_version": "1.5.0",
      "model_name": "ProgressStyleModel",
      "state": {
       "_model_module": "@jupyter-widgets/controls",
       "_model_module_version": "1.5.0",
       "_model_name": "ProgressStyleModel",
       "_view_count": null,
       "_view_module": "@jupyter-widgets/base",
       "_view_module_version": "1.2.0",
       "_view_name": "StyleView",
       "bar_color": null,
       "description_width": ""
      }
     },
     "28b6ac1c2a3a4b2c83dab916b1be1ed5": {
      "model_module": "@jupyter-widgets/base",
      "model_module_version": "1.2.0",
      "model_name": "LayoutModel",
      "state": {
       "_model_module": "@jupyter-widgets/base",
       "_model_module_version": "1.2.0",
       "_model_name": "LayoutModel",
       "_view_count": null,
       "_view_module": "@jupyter-widgets/base",
       "_view_module_version": "1.2.0",
       "_view_name": "LayoutView",
       "align_content": null,
       "align_items": null,
       "align_self": null,
       "border": null,
       "bottom": null,
       "display": null,
       "flex": null,
       "flex_flow": null,
       "grid_area": null,
       "grid_auto_columns": null,
       "grid_auto_flow": null,
       "grid_auto_rows": null,
       "grid_column": null,
       "grid_gap": null,
       "grid_row": null,
       "grid_template_areas": null,
       "grid_template_columns": null,
       "grid_template_rows": null,
       "height": null,
       "justify_content": null,
       "justify_items": null,
       "left": null,
       "margin": null,
       "max_height": null,
       "max_width": null,
       "min_height": null,
       "min_width": null,
       "object_fit": null,
       "object_position": null,
       "order": null,
       "overflow": null,
       "overflow_x": null,
       "overflow_y": null,
       "padding": null,
       "right": null,
       "top": null,
       "visibility": null,
       "width": null
      }
     },
     "29810a7bdba44dd489038dd14bcbedc3": {
      "model_module": "@jupyter-widgets/base",
      "model_module_version": "1.2.0",
      "model_name": "LayoutModel",
      "state": {
       "_model_module": "@jupyter-widgets/base",
       "_model_module_version": "1.2.0",
       "_model_name": "LayoutModel",
       "_view_count": null,
       "_view_module": "@jupyter-widgets/base",
       "_view_module_version": "1.2.0",
       "_view_name": "LayoutView",
       "align_content": null,
       "align_items": null,
       "align_self": null,
       "border": null,
       "bottom": null,
       "display": null,
       "flex": null,
       "flex_flow": null,
       "grid_area": null,
       "grid_auto_columns": null,
       "grid_auto_flow": null,
       "grid_auto_rows": null,
       "grid_column": null,
       "grid_gap": null,
       "grid_row": null,
       "grid_template_areas": null,
       "grid_template_columns": null,
       "grid_template_rows": null,
       "height": null,
       "justify_content": null,
       "justify_items": null,
       "left": null,
       "margin": null,
       "max_height": null,
       "max_width": null,
       "min_height": null,
       "min_width": null,
       "object_fit": null,
       "object_position": null,
       "order": null,
       "overflow": null,
       "overflow_x": null,
       "overflow_y": null,
       "padding": null,
       "right": null,
       "top": null,
       "visibility": null,
       "width": null
      }
     },
     "2e8e2dd9a79047908153956263508905": {
      "model_module": "@jupyter-widgets/controls",
      "model_module_version": "1.5.0",
      "model_name": "DescriptionStyleModel",
      "state": {
       "_model_module": "@jupyter-widgets/controls",
       "_model_module_version": "1.5.0",
       "_model_name": "DescriptionStyleModel",
       "_view_count": null,
       "_view_module": "@jupyter-widgets/base",
       "_view_module_version": "1.2.0",
       "_view_name": "StyleView",
       "description_width": ""
      }
     },
     "3000504ed20841e580a9be88816f50c3": {
      "model_module": "@jupyter-widgets/controls",
      "model_module_version": "1.5.0",
      "model_name": "DescriptionStyleModel",
      "state": {
       "_model_module": "@jupyter-widgets/controls",
       "_model_module_version": "1.5.0",
       "_model_name": "DescriptionStyleModel",
       "_view_count": null,
       "_view_module": "@jupyter-widgets/base",
       "_view_module_version": "1.2.0",
       "_view_name": "StyleView",
       "description_width": ""
      }
     },
     "31a7b28a7d064d8dbad448057648d36f": {
      "model_module": "@jupyter-widgets/controls",
      "model_module_version": "1.5.0",
      "model_name": "HBoxModel",
      "state": {
       "_dom_classes": [],
       "_model_module": "@jupyter-widgets/controls",
       "_model_module_version": "1.5.0",
       "_model_name": "HBoxModel",
       "_view_count": null,
       "_view_module": "@jupyter-widgets/controls",
       "_view_module_version": "1.5.0",
       "_view_name": "HBoxView",
       "box_style": "",
       "children": [
        "IPY_MODEL_a0a056a46cd146efbf4a941b7554c0c1",
        "IPY_MODEL_e9e23f6412c84c73961e214a82e1aedd",
        "IPY_MODEL_3d3a99e3e9ac4b0cb54846963dc83246"
       ],
       "layout": "IPY_MODEL_29810a7bdba44dd489038dd14bcbedc3"
      }
     },
     "327557f222c8495da3d5cecef8da1766": {
      "model_module": "@jupyter-widgets/base",
      "model_module_version": "1.2.0",
      "model_name": "LayoutModel",
      "state": {
       "_model_module": "@jupyter-widgets/base",
       "_model_module_version": "1.2.0",
       "_model_name": "LayoutModel",
       "_view_count": null,
       "_view_module": "@jupyter-widgets/base",
       "_view_module_version": "1.2.0",
       "_view_name": "LayoutView",
       "align_content": null,
       "align_items": null,
       "align_self": null,
       "border": null,
       "bottom": null,
       "display": null,
       "flex": null,
       "flex_flow": null,
       "grid_area": null,
       "grid_auto_columns": null,
       "grid_auto_flow": null,
       "grid_auto_rows": null,
       "grid_column": null,
       "grid_gap": null,
       "grid_row": null,
       "grid_template_areas": null,
       "grid_template_columns": null,
       "grid_template_rows": null,
       "height": null,
       "justify_content": null,
       "justify_items": null,
       "left": null,
       "margin": null,
       "max_height": null,
       "max_width": null,
       "min_height": null,
       "min_width": null,
       "object_fit": null,
       "object_position": null,
       "order": null,
       "overflow": null,
       "overflow_x": null,
       "overflow_y": null,
       "padding": null,
       "right": null,
       "top": null,
       "visibility": null,
       "width": null
      }
     },
     "33d02884536747c1af3500bcad3e9320": {
      "model_module": "@jupyter-widgets/controls",
      "model_module_version": "1.5.0",
      "model_name": "HBoxModel",
      "state": {
       "_dom_classes": [],
       "_model_module": "@jupyter-widgets/controls",
       "_model_module_version": "1.5.0",
       "_model_name": "HBoxModel",
       "_view_count": null,
       "_view_module": "@jupyter-widgets/controls",
       "_view_module_version": "1.5.0",
       "_view_name": "HBoxView",
       "box_style": "",
       "children": [
        "IPY_MODEL_89a704c5a5bf422e9699b11156e865ff",
        "IPY_MODEL_753d57afa520485abe2428cb289eff2a",
        "IPY_MODEL_15d8655331e7437394626dc03326ca68"
       ],
       "layout": "IPY_MODEL_38052d3acf2945eab3799ca4e3e257d2"
      }
     },
     "34b72f83ff1b4c248c868461640fe66b": {
      "model_module": "@jupyter-widgets/controls",
      "model_module_version": "1.5.0",
      "model_name": "HTMLModel",
      "state": {
       "_dom_classes": [],
       "_model_module": "@jupyter-widgets/controls",
       "_model_module_version": "1.5.0",
       "_model_name": "HTMLModel",
       "_view_count": null,
       "_view_module": "@jupyter-widgets/controls",
       "_view_module_version": "1.5.0",
       "_view_name": "HTMLView",
       "description": "",
       "description_tooltip": null,
       "layout": "IPY_MODEL_4e4f629ef97c476fa59d677284c32f7b",
       "placeholder": "​",
       "style": "IPY_MODEL_b0ec00ff6d2142f4a200fe32e3af6531",
       "value": " 17.0/17.0 [00:00&lt;00:00, 740B/s]"
      }
     },
     "37ac8d75f9294890a21cda7edbbc0755": {
      "model_module": "@jupyter-widgets/controls",
      "model_module_version": "1.5.0",
      "model_name": "HTMLModel",
      "state": {
       "_dom_classes": [],
       "_model_module": "@jupyter-widgets/controls",
       "_model_module_version": "1.5.0",
       "_model_name": "HTMLModel",
       "_view_count": null,
       "_view_module": "@jupyter-widgets/controls",
       "_view_module_version": "1.5.0",
       "_view_name": "HTMLView",
       "description": "",
       "description_tooltip": null,
       "layout": "IPY_MODEL_ac87eb2319c04b6a8ad91e04df89182c",
       "placeholder": "​",
       "style": "IPY_MODEL_c6e7185d65134a9ba20aa68631743f02",
       "value": "Downloading: 100%"
      }
     },
     "38052d3acf2945eab3799ca4e3e257d2": {
      "model_module": "@jupyter-widgets/base",
      "model_module_version": "1.2.0",
      "model_name": "LayoutModel",
      "state": {
       "_model_module": "@jupyter-widgets/base",
       "_model_module_version": "1.2.0",
       "_model_name": "LayoutModel",
       "_view_count": null,
       "_view_module": "@jupyter-widgets/base",
       "_view_module_version": "1.2.0",
       "_view_name": "LayoutView",
       "align_content": null,
       "align_items": null,
       "align_self": null,
       "border": null,
       "bottom": null,
       "display": null,
       "flex": null,
       "flex_flow": null,
       "grid_area": null,
       "grid_auto_columns": null,
       "grid_auto_flow": null,
       "grid_auto_rows": null,
       "grid_column": null,
       "grid_gap": null,
       "grid_row": null,
       "grid_template_areas": null,
       "grid_template_columns": null,
       "grid_template_rows": null,
       "height": null,
       "justify_content": null,
       "justify_items": null,
       "left": null,
       "margin": null,
       "max_height": null,
       "max_width": null,
       "min_height": null,
       "min_width": null,
       "object_fit": null,
       "object_position": null,
       "order": null,
       "overflow": null,
       "overflow_x": null,
       "overflow_y": null,
       "padding": null,
       "right": null,
       "top": null,
       "visibility": null,
       "width": null
      }
     },
     "3835cf35843b4d8f86b0584bf85e40e5": {
      "model_module": "@jupyter-widgets/controls",
      "model_module_version": "1.5.0",
      "model_name": "FloatProgressModel",
      "state": {
       "_dom_classes": [],
       "_model_module": "@jupyter-widgets/controls",
       "_model_module_version": "1.5.0",
       "_model_name": "FloatProgressModel",
       "_view_count": null,
       "_view_module": "@jupyter-widgets/controls",
       "_view_module_version": "1.5.0",
       "_view_name": "ProgressView",
       "bar_style": "success",
       "description": "",
       "description_tooltip": null,
       "layout": "IPY_MODEL_d923004f63d14faaa53ca065f7efa9bf",
       "max": 1160.0,
       "min": 0.0,
       "orientation": "horizontal",
       "style": "IPY_MODEL_47776d18861143469542f95d5fbc39f6",
       "value": 1160.0
      }
     },
     "38d3982284a14329a22af67926979095": {
      "model_module": "@jupyter-widgets/controls",
      "model_module_version": "1.5.0",
      "model_name": "DescriptionStyleModel",
      "state": {
       "_model_module": "@jupyter-widgets/controls",
       "_model_module_version": "1.5.0",
       "_model_name": "DescriptionStyleModel",
       "_view_count": null,
       "_view_module": "@jupyter-widgets/base",
       "_view_module_version": "1.2.0",
       "_view_name": "StyleView",
       "description_width": ""
      }
     },
     "3a7adb25fd0a49a79e5a321c979af97d": {
      "model_module": "@jupyter-widgets/base",
      "model_module_version": "1.2.0",
      "model_name": "LayoutModel",
      "state": {
       "_model_module": "@jupyter-widgets/base",
       "_model_module_version": "1.2.0",
       "_model_name": "LayoutModel",
       "_view_count": null,
       "_view_module": "@jupyter-widgets/base",
       "_view_module_version": "1.2.0",
       "_view_name": "LayoutView",
       "align_content": null,
       "align_items": null,
       "align_self": null,
       "border": null,
       "bottom": null,
       "display": null,
       "flex": null,
       "flex_flow": null,
       "grid_area": null,
       "grid_auto_columns": null,
       "grid_auto_flow": null,
       "grid_auto_rows": null,
       "grid_column": null,
       "grid_gap": null,
       "grid_row": null,
       "grid_template_areas": null,
       "grid_template_columns": null,
       "grid_template_rows": null,
       "height": null,
       "justify_content": null,
       "justify_items": null,
       "left": null,
       "margin": null,
       "max_height": null,
       "max_width": null,
       "min_height": null,
       "min_width": null,
       "object_fit": null,
       "object_position": null,
       "order": null,
       "overflow": null,
       "overflow_x": null,
       "overflow_y": null,
       "padding": null,
       "right": null,
       "top": null,
       "visibility": null,
       "width": null
      }
     },
     "3c45b22898354dc99b07db1128e67167": {
      "model_module": "@jupyter-widgets/controls",
      "model_module_version": "1.5.0",
      "model_name": "DescriptionStyleModel",
      "state": {
       "_model_module": "@jupyter-widgets/controls",
       "_model_module_version": "1.5.0",
       "_model_name": "DescriptionStyleModel",
       "_view_count": null,
       "_view_module": "@jupyter-widgets/base",
       "_view_module_version": "1.2.0",
       "_view_name": "StyleView",
       "description_width": ""
      }
     },
     "3d3a99e3e9ac4b0cb54846963dc83246": {
      "model_module": "@jupyter-widgets/controls",
      "model_module_version": "1.5.0",
      "model_name": "HTMLModel",
      "state": {
       "_dom_classes": [],
       "_model_module": "@jupyter-widgets/controls",
       "_model_module_version": "1.5.0",
       "_model_name": "HTMLModel",
       "_view_count": null,
       "_view_module": "@jupyter-widgets/controls",
       "_view_module_version": "1.5.0",
       "_view_name": "HTMLView",
       "description": "",
       "description_tooltip": null,
       "layout": "IPY_MODEL_d589322b1bc14d1e8113b4932dccca24",
       "placeholder": "​",
       "style": "IPY_MODEL_b698856c9c2f43deb2b6d60d32427ba1",
       "value": " 150/150 [00:00&lt;00:00, 5.77kB/s]"
      }
     },
     "3e2be54499824462a2fd3eca2ffb6ed3": {
      "model_module": "@jupyter-widgets/base",
      "model_module_version": "1.2.0",
      "model_name": "LayoutModel",
      "state": {
       "_model_module": "@jupyter-widgets/base",
       "_model_module_version": "1.2.0",
       "_model_name": "LayoutModel",
       "_view_count": null,
       "_view_module": "@jupyter-widgets/base",
       "_view_module_version": "1.2.0",
       "_view_name": "LayoutView",
       "align_content": null,
       "align_items": null,
       "align_self": null,
       "border": null,
       "bottom": null,
       "display": null,
       "flex": null,
       "flex_flow": null,
       "grid_area": null,
       "grid_auto_columns": null,
       "grid_auto_flow": null,
       "grid_auto_rows": null,
       "grid_column": null,
       "grid_gap": null,
       "grid_row": null,
       "grid_template_areas": null,
       "grid_template_columns": null,
       "grid_template_rows": null,
       "height": null,
       "justify_content": null,
       "justify_items": null,
       "left": null,
       "margin": null,
       "max_height": null,
       "max_width": null,
       "min_height": null,
       "min_width": null,
       "object_fit": null,
       "object_position": null,
       "order": null,
       "overflow": null,
       "overflow_x": null,
       "overflow_y": null,
       "padding": null,
       "right": null,
       "top": null,
       "visibility": null,
       "width": null
      }
     },
     "40723cd91ef74d468c599e25aef1ce5d": {
      "model_module": "@jupyter-widgets/base",
      "model_module_version": "1.2.0",
      "model_name": "LayoutModel",
      "state": {
       "_model_module": "@jupyter-widgets/base",
       "_model_module_version": "1.2.0",
       "_model_name": "LayoutModel",
       "_view_count": null,
       "_view_module": "@jupyter-widgets/base",
       "_view_module_version": "1.2.0",
       "_view_name": "LayoutView",
       "align_content": null,
       "align_items": null,
       "align_self": null,
       "border": null,
       "bottom": null,
       "display": null,
       "flex": null,
       "flex_flow": null,
       "grid_area": null,
       "grid_auto_columns": null,
       "grid_auto_flow": null,
       "grid_auto_rows": null,
       "grid_column": null,
       "grid_gap": null,
       "grid_row": null,
       "grid_template_areas": null,
       "grid_template_columns": null,
       "grid_template_rows": null,
       "height": null,
       "justify_content": null,
       "justify_items": null,
       "left": null,
       "margin": null,
       "max_height": null,
       "max_width": null,
       "min_height": null,
       "min_width": null,
       "object_fit": null,
       "object_position": null,
       "order": null,
       "overflow": null,
       "overflow_x": null,
       "overflow_y": null,
       "padding": null,
       "right": null,
       "top": null,
       "visibility": null,
       "width": null
      }
     },
     "453d413f5f14472e8586f15c0101287e": {
      "model_module": "@jupyter-widgets/base",
      "model_module_version": "1.2.0",
      "model_name": "LayoutModel",
      "state": {
       "_model_module": "@jupyter-widgets/base",
       "_model_module_version": "1.2.0",
       "_model_name": "LayoutModel",
       "_view_count": null,
       "_view_module": "@jupyter-widgets/base",
       "_view_module_version": "1.2.0",
       "_view_name": "LayoutView",
       "align_content": null,
       "align_items": null,
       "align_self": null,
       "border": null,
       "bottom": null,
       "display": null,
       "flex": null,
       "flex_flow": null,
       "grid_area": null,
       "grid_auto_columns": null,
       "grid_auto_flow": null,
       "grid_auto_rows": null,
       "grid_column": null,
       "grid_gap": null,
       "grid_row": null,
       "grid_template_areas": null,
       "grid_template_columns": null,
       "grid_template_rows": null,
       "height": null,
       "justify_content": null,
       "justify_items": null,
       "left": null,
       "margin": null,
       "max_height": null,
       "max_width": null,
       "min_height": null,
       "min_width": null,
       "object_fit": null,
       "object_position": null,
       "order": null,
       "overflow": null,
       "overflow_x": null,
       "overflow_y": null,
       "padding": null,
       "right": null,
       "top": null,
       "visibility": null,
       "width": null
      }
     },
     "47776d18861143469542f95d5fbc39f6": {
      "model_module": "@jupyter-widgets/controls",
      "model_module_version": "1.5.0",
      "model_name": "ProgressStyleModel",
      "state": {
       "_model_module": "@jupyter-widgets/controls",
       "_model_module_version": "1.5.0",
       "_model_name": "ProgressStyleModel",
       "_view_count": null,
       "_view_module": "@jupyter-widgets/base",
       "_view_module_version": "1.2.0",
       "_view_name": "StyleView",
       "bar_color": null,
       "description_width": ""
      }
     },
     "4e4f629ef97c476fa59d677284c32f7b": {
      "model_module": "@jupyter-widgets/base",
      "model_module_version": "1.2.0",
      "model_name": "LayoutModel",
      "state": {
       "_model_module": "@jupyter-widgets/base",
       "_model_module_version": "1.2.0",
       "_model_name": "LayoutModel",
       "_view_count": null,
       "_view_module": "@jupyter-widgets/base",
       "_view_module_version": "1.2.0",
       "_view_name": "LayoutView",
       "align_content": null,
       "align_items": null,
       "align_self": null,
       "border": null,
       "bottom": null,
       "display": null,
       "flex": null,
       "flex_flow": null,
       "grid_area": null,
       "grid_auto_columns": null,
       "grid_auto_flow": null,
       "grid_auto_rows": null,
       "grid_column": null,
       "grid_gap": null,
       "grid_row": null,
       "grid_template_areas": null,
       "grid_template_columns": null,
       "grid_template_rows": null,
       "height": null,
       "justify_content": null,
       "justify_items": null,
       "left": null,
       "margin": null,
       "max_height": null,
       "max_width": null,
       "min_height": null,
       "min_width": null,
       "object_fit": null,
       "object_position": null,
       "order": null,
       "overflow": null,
       "overflow_x": null,
       "overflow_y": null,
       "padding": null,
       "right": null,
       "top": null,
       "visibility": null,
       "width": null
      }
     },
     "515b1a88b30a4f6191ecc507572189d4": {
      "model_module": "@jupyter-widgets/controls",
      "model_module_version": "1.5.0",
      "model_name": "FloatProgressModel",
      "state": {
       "_dom_classes": [],
       "_model_module": "@jupyter-widgets/controls",
       "_model_module_version": "1.5.0",
       "_model_name": "FloatProgressModel",
       "_view_count": null,
       "_view_module": "@jupyter-widgets/controls",
       "_view_module_version": "1.5.0",
       "_view_name": "ProgressView",
       "bar_style": "success",
       "description": "",
       "description_tooltip": null,
       "layout": "IPY_MODEL_dd0504731c154792964be3d81891d06c",
       "max": 295.0,
       "min": 0.0,
       "orientation": "horizontal",
       "style": "IPY_MODEL_6f3e22e5899f478f8c49c83654b5e8d7",
       "value": 295.0
      }
     },
     "577ac5a7dab04ff39416ebeadeca7371": {
      "model_module": "@jupyter-widgets/controls",
      "model_module_version": "1.5.0",
      "model_name": "ProgressStyleModel",
      "state": {
       "_model_module": "@jupyter-widgets/controls",
       "_model_module_version": "1.5.0",
       "_model_name": "ProgressStyleModel",
       "_view_count": null,
       "_view_module": "@jupyter-widgets/base",
       "_view_module_version": "1.2.0",
       "_view_name": "StyleView",
       "bar_color": null,
       "description_width": ""
      }
     },
     "57f43b3943174bed829a00c8b704708f": {
      "model_module": "@jupyter-widgets/controls",
      "model_module_version": "1.5.0",
      "model_name": "DescriptionStyleModel",
      "state": {
       "_model_module": "@jupyter-widgets/controls",
       "_model_module_version": "1.5.0",
       "_model_name": "DescriptionStyleModel",
       "_view_count": null,
       "_view_module": "@jupyter-widgets/base",
       "_view_module_version": "1.2.0",
       "_view_name": "StyleView",
       "description_width": ""
      }
     },
     "60e4116115864020a0b7c14602857628": {
      "model_module": "@jupyter-widgets/controls",
      "model_module_version": "1.5.0",
      "model_name": "HTMLModel",
      "state": {
       "_dom_classes": [],
       "_model_module": "@jupyter-widgets/controls",
       "_model_module_version": "1.5.0",
       "_model_name": "HTMLModel",
       "_view_count": null,
       "_view_module": "@jupyter-widgets/controls",
       "_view_module_version": "1.5.0",
       "_view_name": "HTMLView",
       "description": "",
       "description_tooltip": null,
       "layout": "IPY_MODEL_16aa2ccd90194d43b5443a35096e86a1",
       "placeholder": "​",
       "style": "IPY_MODEL_d1102e1c7554461f8dd74f9e08049802",
       "value": "Downloading: 100%"
      }
     },
     "6cc224487ab54cbfb83a6b6dd4b3b1df": {
      "model_module": "@jupyter-widgets/controls",
      "model_module_version": "1.5.0",
      "model_name": "HTMLModel",
      "state": {
       "_dom_classes": [],
       "_model_module": "@jupyter-widgets/controls",
       "_model_module_version": "1.5.0",
       "_model_name": "HTMLModel",
       "_view_count": null,
       "_view_module": "@jupyter-widgets/controls",
       "_view_module_version": "1.5.0",
       "_view_name": "HTMLView",
       "description": "",
       "description_tooltip": null,
       "layout": "IPY_MODEL_bc0bcd4a7d8f4606be6df8ed1542632a",
       "placeholder": "​",
       "style": "IPY_MODEL_ea60d176bcd342468c976403cee2bb91",
       "value": " 1.03M/1.03M [00:00&lt;00:00, 2.16MB/s]"
      }
     },
     "6f3e22e5899f478f8c49c83654b5e8d7": {
      "model_module": "@jupyter-widgets/controls",
      "model_module_version": "1.5.0",
      "model_name": "ProgressStyleModel",
      "state": {
       "_model_module": "@jupyter-widgets/controls",
       "_model_module_version": "1.5.0",
       "_model_name": "ProgressStyleModel",
       "_view_count": null,
       "_view_module": "@jupyter-widgets/base",
       "_view_module_version": "1.2.0",
       "_view_name": "StyleView",
       "bar_color": null,
       "description_width": ""
      }
     },
     "6f6ba79767ad478cba88863b7bd2da6c": {
      "model_module": "@jupyter-widgets/base",
      "model_module_version": "1.2.0",
      "model_name": "LayoutModel",
      "state": {
       "_model_module": "@jupyter-widgets/base",
       "_model_module_version": "1.2.0",
       "_model_name": "LayoutModel",
       "_view_count": null,
       "_view_module": "@jupyter-widgets/base",
       "_view_module_version": "1.2.0",
       "_view_name": "LayoutView",
       "align_content": null,
       "align_items": null,
       "align_self": null,
       "border": null,
       "bottom": null,
       "display": null,
       "flex": null,
       "flex_flow": null,
       "grid_area": null,
       "grid_auto_columns": null,
       "grid_auto_flow": null,
       "grid_auto_rows": null,
       "grid_column": null,
       "grid_gap": null,
       "grid_row": null,
       "grid_template_areas": null,
       "grid_template_columns": null,
       "grid_template_rows": null,
       "height": null,
       "justify_content": null,
       "justify_items": null,
       "left": null,
       "margin": null,
       "max_height": null,
       "max_width": null,
       "min_height": null,
       "min_width": null,
       "object_fit": null,
       "object_position": null,
       "order": null,
       "overflow": null,
       "overflow_x": null,
       "overflow_y": null,
       "padding": null,
       "right": null,
       "top": null,
       "visibility": null,
       "width": null
      }
     },
     "753d57afa520485abe2428cb289eff2a": {
      "model_module": "@jupyter-widgets/controls",
      "model_module_version": "1.5.0",
      "model_name": "FloatProgressModel",
      "state": {
       "_dom_classes": [],
       "_model_module": "@jupyter-widgets/controls",
       "_model_module_version": "1.5.0",
       "_model_name": "FloatProgressModel",
       "_view_count": null,
       "_view_module": "@jupyter-widgets/controls",
       "_view_module_version": "1.5.0",
       "_view_name": "ProgressView",
       "bar_style": "success",
       "description": "",
       "description_tooltip": null,
       "layout": "IPY_MODEL_3e2be54499824462a2fd3eca2ffb6ed3",
       "max": 539694161.0,
       "min": 0.0,
       "orientation": "horizontal",
       "style": "IPY_MODEL_28b5f5e756da4d26936d06095a7908fa",
       "value": 539694161.0
      }
     },
     "791632d196624df38e5ec8290ce78168": {
      "model_module": "@jupyter-widgets/controls",
      "model_module_version": "1.5.0",
      "model_name": "HTMLModel",
      "state": {
       "_dom_classes": [],
       "_model_module": "@jupyter-widgets/controls",
       "_model_module_version": "1.5.0",
       "_model_name": "HTMLModel",
       "_view_count": null,
       "_view_module": "@jupyter-widgets/controls",
       "_view_module_version": "1.5.0",
       "_view_name": "HTMLView",
       "description": "",
       "description_tooltip": null,
       "layout": "IPY_MODEL_dd1d257b37214b41b7ca95e42f4d68b9",
       "placeholder": "​",
       "style": "IPY_MODEL_214710b2b696438c83334a661bef5272",
       "value": " 890/890 [00:00&lt;00:00, 37.8kB/s]"
      }
     },
     "7f37e4d9037c4e62b36147160b2549d9": {
      "model_module": "@jupyter-widgets/controls",
      "model_module_version": "1.5.0",
      "model_name": "HBoxModel",
      "state": {
       "_dom_classes": [],
       "_model_module": "@jupyter-widgets/controls",
       "_model_module_version": "1.5.0",
       "_model_name": "HBoxModel",
       "_view_count": null,
       "_view_module": "@jupyter-widgets/controls",
       "_view_module_version": "1.5.0",
       "_view_name": "HBoxView",
       "box_style": "",
       "children": [
        "IPY_MODEL_ce8bbbdc4b0c4cfc9e789a6a0b1171f6",
        "IPY_MODEL_bf8f3c93606642e58a1ef5cfcc81696c",
        "IPY_MODEL_34b72f83ff1b4c248c868461640fe66b"
       ],
       "layout": "IPY_MODEL_8118405c041a4362b71c4cb3f185113d"
      }
     },
     "8118405c041a4362b71c4cb3f185113d": {
      "model_module": "@jupyter-widgets/base",
      "model_module_version": "1.2.0",
      "model_name": "LayoutModel",
      "state": {
       "_model_module": "@jupyter-widgets/base",
       "_model_module_version": "1.2.0",
       "_model_name": "LayoutModel",
       "_view_count": null,
       "_view_module": "@jupyter-widgets/base",
       "_view_module_version": "1.2.0",
       "_view_name": "LayoutView",
       "align_content": null,
       "align_items": null,
       "align_self": null,
       "border": null,
       "bottom": null,
       "display": null,
       "flex": null,
       "flex_flow": null,
       "grid_area": null,
       "grid_auto_columns": null,
       "grid_auto_flow": null,
       "grid_auto_rows": null,
       "grid_column": null,
       "grid_gap": null,
       "grid_row": null,
       "grid_template_areas": null,
       "grid_template_columns": null,
       "grid_template_rows": null,
       "height": null,
       "justify_content": null,
       "justify_items": null,
       "left": null,
       "margin": null,
       "max_height": null,
       "max_width": null,
       "min_height": null,
       "min_width": null,
       "object_fit": null,
       "object_position": null,
       "order": null,
       "overflow": null,
       "overflow_x": null,
       "overflow_y": null,
       "padding": null,
       "right": null,
       "top": null,
       "visibility": null,
       "width": null
      }
     },
     "820076f6b32b4274994a0e00027945b2": {
      "model_module": "@jupyter-widgets/base",
      "model_module_version": "1.2.0",
      "model_name": "LayoutModel",
      "state": {
       "_model_module": "@jupyter-widgets/base",
       "_model_module_version": "1.2.0",
       "_model_name": "LayoutModel",
       "_view_count": null,
       "_view_module": "@jupyter-widgets/base",
       "_view_module_version": "1.2.0",
       "_view_name": "LayoutView",
       "align_content": null,
       "align_items": null,
       "align_self": null,
       "border": null,
       "bottom": null,
       "display": null,
       "flex": null,
       "flex_flow": null,
       "grid_area": null,
       "grid_auto_columns": null,
       "grid_auto_flow": null,
       "grid_auto_rows": null,
       "grid_column": null,
       "grid_gap": null,
       "grid_row": null,
       "grid_template_areas": null,
       "grid_template_columns": null,
       "grid_template_rows": null,
       "height": null,
       "justify_content": null,
       "justify_items": null,
       "left": null,
       "margin": null,
       "max_height": null,
       "max_width": null,
       "min_height": null,
       "min_width": null,
       "object_fit": null,
       "object_position": null,
       "order": null,
       "overflow": null,
       "overflow_x": null,
       "overflow_y": null,
       "padding": null,
       "right": null,
       "top": null,
       "visibility": null,
       "width": null
      }
     },
     "82fd6b7e46864901afdd54ce15f19c6c": {
      "model_module": "@jupyter-widgets/base",
      "model_module_version": "1.2.0",
      "model_name": "LayoutModel",
      "state": {
       "_model_module": "@jupyter-widgets/base",
       "_model_module_version": "1.2.0",
       "_model_name": "LayoutModel",
       "_view_count": null,
       "_view_module": "@jupyter-widgets/base",
       "_view_module_version": "1.2.0",
       "_view_name": "LayoutView",
       "align_content": null,
       "align_items": null,
       "align_self": null,
       "border": null,
       "bottom": null,
       "display": null,
       "flex": null,
       "flex_flow": null,
       "grid_area": null,
       "grid_auto_columns": null,
       "grid_auto_flow": null,
       "grid_auto_rows": null,
       "grid_column": null,
       "grid_gap": null,
       "grid_row": null,
       "grid_template_areas": null,
       "grid_template_columns": null,
       "grid_template_rows": null,
       "height": null,
       "justify_content": null,
       "justify_items": null,
       "left": null,
       "margin": null,
       "max_height": null,
       "max_width": null,
       "min_height": null,
       "min_width": null,
       "object_fit": null,
       "object_position": null,
       "order": null,
       "overflow": null,
       "overflow_x": null,
       "overflow_y": null,
       "padding": null,
       "right": null,
       "top": null,
       "visibility": null,
       "width": null
      }
     },
     "83deb95948ad451ea5a66ad0f7913408": {
      "model_module": "@jupyter-widgets/controls",
      "model_module_version": "1.5.0",
      "model_name": "HBoxModel",
      "state": {
       "_dom_classes": [],
       "_model_module": "@jupyter-widgets/controls",
       "_model_module_version": "1.5.0",
       "_model_name": "HBoxModel",
       "_view_count": null,
       "_view_module": "@jupyter-widgets/controls",
       "_view_module_version": "1.5.0",
       "_view_name": "HBoxView",
       "box_style": "",
       "children": [
        "IPY_MODEL_052661c427d44b05afc87279aeec5baa",
        "IPY_MODEL_baff7fe6e457421ea591f8245a94b6e0",
        "IPY_MODEL_791632d196624df38e5ec8290ce78168"
       ],
       "layout": "IPY_MODEL_40723cd91ef74d468c599e25aef1ce5d"
      }
     },
     "89a704c5a5bf422e9699b11156e865ff": {
      "model_module": "@jupyter-widgets/controls",
      "model_module_version": "1.5.0",
      "model_name": "HTMLModel",
      "state": {
       "_dom_classes": [],
       "_model_module": "@jupyter-widgets/controls",
       "_model_module_version": "1.5.0",
       "_model_name": "HTMLModel",
       "_view_count": null,
       "_view_module": "@jupyter-widgets/controls",
       "_view_module_version": "1.5.0",
       "_view_name": "HTMLView",
       "description": "",
       "description_tooltip": null,
       "layout": "IPY_MODEL_6f6ba79767ad478cba88863b7bd2da6c",
       "placeholder": "​",
       "style": "IPY_MODEL_57f43b3943174bed829a00c8b704708f",
       "value": "Downloading: 100%"
      }
     },
     "89c06c1e01a545859e43f0bde6e8e646": {
      "model_module": "@jupyter-widgets/controls",
      "model_module_version": "1.5.0",
      "model_name": "DescriptionStyleModel",
      "state": {
       "_model_module": "@jupyter-widgets/controls",
       "_model_module_version": "1.5.0",
       "_model_name": "DescriptionStyleModel",
       "_view_count": null,
       "_view_module": "@jupyter-widgets/base",
       "_view_module_version": "1.2.0",
       "_view_name": "StyleView",
       "description_width": ""
      }
     },
     "929261e5d09446039b8b7c1803f40624": {
      "model_module": "@jupyter-widgets/controls",
      "model_module_version": "1.5.0",
      "model_name": "HBoxModel",
      "state": {
       "_dom_classes": [],
       "_model_module": "@jupyter-widgets/controls",
       "_model_module_version": "1.5.0",
       "_model_name": "HBoxModel",
       "_view_count": null,
       "_view_module": "@jupyter-widgets/controls",
       "_view_module_version": "1.5.0",
       "_view_name": "HBoxView",
       "box_style": "",
       "children": [
        "IPY_MODEL_cb8440f63e3e4d7996171d4a11835796",
        "IPY_MODEL_e9931b12dde94d6b97b538909e643724",
        "IPY_MODEL_f57a1512c40249069cbff8ba06d7535b"
       ],
       "layout": "IPY_MODEL_d631a3eb4a3d4e27bbe87d637f7e3175"
      }
     },
     "92b337be2b8343178777c22509e8eca2": {
      "model_module": "@jupyter-widgets/base",
      "model_module_version": "1.2.0",
      "model_name": "LayoutModel",
      "state": {
       "_model_module": "@jupyter-widgets/base",
       "_model_module_version": "1.2.0",
       "_model_name": "LayoutModel",
       "_view_count": null,
       "_view_module": "@jupyter-widgets/base",
       "_view_module_version": "1.2.0",
       "_view_name": "LayoutView",
       "align_content": null,
       "align_items": null,
       "align_self": null,
       "border": null,
       "bottom": null,
       "display": null,
       "flex": null,
       "flex_flow": null,
       "grid_area": null,
       "grid_auto_columns": null,
       "grid_auto_flow": null,
       "grid_auto_rows": null,
       "grid_column": null,
       "grid_gap": null,
       "grid_row": null,
       "grid_template_areas": null,
       "grid_template_columns": null,
       "grid_template_rows": null,
       "height": null,
       "justify_content": null,
       "justify_items": null,
       "left": null,
       "margin": null,
       "max_height": null,
       "max_width": null,
       "min_height": null,
       "min_width": null,
       "object_fit": null,
       "object_position": null,
       "order": null,
       "overflow": null,
       "overflow_x": null,
       "overflow_y": null,
       "padding": null,
       "right": null,
       "top": null,
       "visibility": null,
       "width": null
      }
     },
     "94a749d67e1f4061a5ad38bda7aae41a": {
      "model_module": "@jupyter-widgets/base",
      "model_module_version": "1.2.0",
      "model_name": "LayoutModel",
      "state": {
       "_model_module": "@jupyter-widgets/base",
       "_model_module_version": "1.2.0",
       "_model_name": "LayoutModel",
       "_view_count": null,
       "_view_module": "@jupyter-widgets/base",
       "_view_module_version": "1.2.0",
       "_view_name": "LayoutView",
       "align_content": null,
       "align_items": null,
       "align_self": null,
       "border": null,
       "bottom": null,
       "display": null,
       "flex": null,
       "flex_flow": null,
       "grid_area": null,
       "grid_auto_columns": null,
       "grid_auto_flow": null,
       "grid_auto_rows": null,
       "grid_column": null,
       "grid_gap": null,
       "grid_row": null,
       "grid_template_areas": null,
       "grid_template_columns": null,
       "grid_template_rows": null,
       "height": null,
       "justify_content": null,
       "justify_items": null,
       "left": null,
       "margin": null,
       "max_height": null,
       "max_width": null,
       "min_height": null,
       "min_width": null,
       "object_fit": null,
       "object_position": null,
       "order": null,
       "overflow": null,
       "overflow_x": null,
       "overflow_y": null,
       "padding": null,
       "right": null,
       "top": null,
       "visibility": null,
       "width": null
      }
     },
     "9afac56512d343e58f79f2c3a92d42ef": {
      "model_module": "@jupyter-widgets/base",
      "model_module_version": "1.2.0",
      "model_name": "LayoutModel",
      "state": {
       "_model_module": "@jupyter-widgets/base",
       "_model_module_version": "1.2.0",
       "_model_name": "LayoutModel",
       "_view_count": null,
       "_view_module": "@jupyter-widgets/base",
       "_view_module_version": "1.2.0",
       "_view_name": "LayoutView",
       "align_content": null,
       "align_items": null,
       "align_self": null,
       "border": null,
       "bottom": null,
       "display": null,
       "flex": null,
       "flex_flow": null,
       "grid_area": null,
       "grid_auto_columns": null,
       "grid_auto_flow": null,
       "grid_auto_rows": null,
       "grid_column": null,
       "grid_gap": null,
       "grid_row": null,
       "grid_template_areas": null,
       "grid_template_columns": null,
       "grid_template_rows": null,
       "height": null,
       "justify_content": null,
       "justify_items": null,
       "left": null,
       "margin": null,
       "max_height": null,
       "max_width": null,
       "min_height": null,
       "min_width": null,
       "object_fit": null,
       "object_position": null,
       "order": null,
       "overflow": null,
       "overflow_x": null,
       "overflow_y": null,
       "padding": null,
       "right": null,
       "top": null,
       "visibility": null,
       "width": null
      }
     },
     "a0a056a46cd146efbf4a941b7554c0c1": {
      "model_module": "@jupyter-widgets/controls",
      "model_module_version": "1.5.0",
      "model_name": "HTMLModel",
      "state": {
       "_dom_classes": [],
       "_model_module": "@jupyter-widgets/controls",
       "_model_module_version": "1.5.0",
       "_model_name": "HTMLModel",
       "_view_count": null,
       "_view_module": "@jupyter-widgets/controls",
       "_view_module_version": "1.5.0",
       "_view_name": "HTMLView",
       "description": "",
       "description_tooltip": null,
       "layout": "IPY_MODEL_820076f6b32b4274994a0e00027945b2",
       "placeholder": "​",
       "style": "IPY_MODEL_2e8e2dd9a79047908153956263508905",
       "value": "Downloading: 100%"
      }
     },
     "a2356de9a54d43728fdadf99de094bdf": {
      "model_module": "@jupyter-widgets/controls",
      "model_module_version": "1.5.0",
      "model_name": "FloatProgressModel",
      "state": {
       "_dom_classes": [],
       "_model_module": "@jupyter-widgets/controls",
       "_model_module_version": "1.5.0",
       "_model_name": "FloatProgressModel",
       "_view_count": null,
       "_view_module": "@jupyter-widgets/controls",
       "_view_module_version": "1.5.0",
       "_view_name": "ProgressView",
       "bar_style": "success",
       "description": "",
       "description_tooltip": null,
       "layout": "IPY_MODEL_0fd032003f5f4f8c80d7cceb7bcb2c86",
       "max": 1078931.0,
       "min": 0.0,
       "orientation": "horizontal",
       "style": "IPY_MODEL_fe737fb26ce64d2aba7f47acfa3c65d9",
       "value": 1078931.0
      }
     },
     "a777aa4701164ad18a64827004d813ef": {
      "model_module": "@jupyter-widgets/controls",
      "model_module_version": "1.5.0",
      "model_name": "DescriptionStyleModel",
      "state": {
       "_model_module": "@jupyter-widgets/controls",
       "_model_module_version": "1.5.0",
       "_model_name": "DescriptionStyleModel",
       "_view_count": null,
       "_view_module": "@jupyter-widgets/base",
       "_view_module_version": "1.2.0",
       "_view_name": "StyleView",
       "description_width": ""
      }
     },
     "a7c4db3cf7924b45956dc5c7cf64a731": {
      "model_module": "@jupyter-widgets/controls",
      "model_module_version": "1.5.0",
      "model_name": "DescriptionStyleModel",
      "state": {
       "_model_module": "@jupyter-widgets/controls",
       "_model_module_version": "1.5.0",
       "_model_name": "DescriptionStyleModel",
       "_view_count": null,
       "_view_module": "@jupyter-widgets/base",
       "_view_module_version": "1.2.0",
       "_view_name": "StyleView",
       "description_width": ""
      }
     },
     "ac87eb2319c04b6a8ad91e04df89182c": {
      "model_module": "@jupyter-widgets/base",
      "model_module_version": "1.2.0",
      "model_name": "LayoutModel",
      "state": {
       "_model_module": "@jupyter-widgets/base",
       "_model_module_version": "1.2.0",
       "_model_name": "LayoutModel",
       "_view_count": null,
       "_view_module": "@jupyter-widgets/base",
       "_view_module_version": "1.2.0",
       "_view_name": "LayoutView",
       "align_content": null,
       "align_items": null,
       "align_self": null,
       "border": null,
       "bottom": null,
       "display": null,
       "flex": null,
       "flex_flow": null,
       "grid_area": null,
       "grid_auto_columns": null,
       "grid_auto_flow": null,
       "grid_auto_rows": null,
       "grid_column": null,
       "grid_gap": null,
       "grid_row": null,
       "grid_template_areas": null,
       "grid_template_columns": null,
       "grid_template_rows": null,
       "height": null,
       "justify_content": null,
       "justify_items": null,
       "left": null,
       "margin": null,
       "max_height": null,
       "max_width": null,
       "min_height": null,
       "min_width": null,
       "object_fit": null,
       "object_position": null,
       "order": null,
       "overflow": null,
       "overflow_x": null,
       "overflow_y": null,
       "padding": null,
       "right": null,
       "top": null,
       "visibility": null,
       "width": null
      }
     },
     "ad11b189945347e4bed6a1872d21ebc4": {
      "model_module": "@jupyter-widgets/controls",
      "model_module_version": "1.5.0",
      "model_name": "HTMLModel",
      "state": {
       "_dom_classes": [],
       "_model_module": "@jupyter-widgets/controls",
       "_model_module_version": "1.5.0",
       "_model_name": "HTMLModel",
       "_view_count": null,
       "_view_module": "@jupyter-widgets/controls",
       "_view_module_version": "1.5.0",
       "_view_name": "HTMLView",
       "description": "",
       "description_tooltip": null,
       "layout": "IPY_MODEL_ef89630b6b6549d782ed1e2496d98d9a",
       "placeholder": "​",
       "style": "IPY_MODEL_0b2fee9aa206437ba59ff5870b16622d",
       "value": "Downloading: 100%"
      }
     },
     "b0ec00ff6d2142f4a200fe32e3af6531": {
      "model_module": "@jupyter-widgets/controls",
      "model_module_version": "1.5.0",
      "model_name": "DescriptionStyleModel",
      "state": {
       "_model_module": "@jupyter-widgets/controls",
       "_model_module_version": "1.5.0",
       "_model_name": "DescriptionStyleModel",
       "_view_count": null,
       "_view_module": "@jupyter-widgets/base",
       "_view_module_version": "1.2.0",
       "_view_name": "StyleView",
       "description_width": ""
      }
     },
     "b698856c9c2f43deb2b6d60d32427ba1": {
      "model_module": "@jupyter-widgets/controls",
      "model_module_version": "1.5.0",
      "model_name": "DescriptionStyleModel",
      "state": {
       "_model_module": "@jupyter-widgets/controls",
       "_model_module_version": "1.5.0",
       "_model_name": "DescriptionStyleModel",
       "_view_count": null,
       "_view_module": "@jupyter-widgets/base",
       "_view_module_version": "1.2.0",
       "_view_name": "StyleView",
       "description_width": ""
      }
     },
     "baff7fe6e457421ea591f8245a94b6e0": {
      "model_module": "@jupyter-widgets/controls",
      "model_module_version": "1.5.0",
      "model_name": "FloatProgressModel",
      "state": {
       "_dom_classes": [],
       "_model_module": "@jupyter-widgets/controls",
       "_model_module_version": "1.5.0",
       "_model_name": "FloatProgressModel",
       "_view_count": null,
       "_view_module": "@jupyter-widgets/controls",
       "_view_module_version": "1.5.0",
       "_view_name": "ProgressView",
       "bar_style": "success",
       "description": "",
       "description_tooltip": null,
       "layout": "IPY_MODEL_be90a5b3af37478d9008659086c695a2",
       "max": 890.0,
       "min": 0.0,
       "orientation": "horizontal",
       "style": "IPY_MODEL_577ac5a7dab04ff39416ebeadeca7371",
       "value": 890.0
      }
     },
     "bc0bcd4a7d8f4606be6df8ed1542632a": {
      "model_module": "@jupyter-widgets/base",
      "model_module_version": "1.2.0",
      "model_name": "LayoutModel",
      "state": {
       "_model_module": "@jupyter-widgets/base",
       "_model_module_version": "1.2.0",
       "_model_name": "LayoutModel",
       "_view_count": null,
       "_view_module": "@jupyter-widgets/base",
       "_view_module_version": "1.2.0",
       "_view_name": "LayoutView",
       "align_content": null,
       "align_items": null,
       "align_self": null,
       "border": null,
       "bottom": null,
       "display": null,
       "flex": null,
       "flex_flow": null,
       "grid_area": null,
       "grid_auto_columns": null,
       "grid_auto_flow": null,
       "grid_auto_rows": null,
       "grid_column": null,
       "grid_gap": null,
       "grid_row": null,
       "grid_template_areas": null,
       "grid_template_columns": null,
       "grid_template_rows": null,
       "height": null,
       "justify_content": null,
       "justify_items": null,
       "left": null,
       "margin": null,
       "max_height": null,
       "max_width": null,
       "min_height": null,
       "min_width": null,
       "object_fit": null,
       "object_position": null,
       "order": null,
       "overflow": null,
       "overflow_x": null,
       "overflow_y": null,
       "padding": null,
       "right": null,
       "top": null,
       "visibility": null,
       "width": null
      }
     },
     "be2f81c31f96473fbea8434373829e1d": {
      "model_module": "@jupyter-widgets/base",
      "model_module_version": "1.2.0",
      "model_name": "LayoutModel",
      "state": {
       "_model_module": "@jupyter-widgets/base",
       "_model_module_version": "1.2.0",
       "_model_name": "LayoutModel",
       "_view_count": null,
       "_view_module": "@jupyter-widgets/base",
       "_view_module_version": "1.2.0",
       "_view_name": "LayoutView",
       "align_content": null,
       "align_items": null,
       "align_self": null,
       "border": null,
       "bottom": null,
       "display": null,
       "flex": null,
       "flex_flow": null,
       "grid_area": null,
       "grid_auto_columns": null,
       "grid_auto_flow": null,
       "grid_auto_rows": null,
       "grid_column": null,
       "grid_gap": null,
       "grid_row": null,
       "grid_template_areas": null,
       "grid_template_columns": null,
       "grid_template_rows": null,
       "height": null,
       "justify_content": null,
       "justify_items": null,
       "left": null,
       "margin": null,
       "max_height": null,
       "max_width": null,
       "min_height": null,
       "min_width": null,
       "object_fit": null,
       "object_position": null,
       "order": null,
       "overflow": null,
       "overflow_x": null,
       "overflow_y": null,
       "padding": null,
       "right": null,
       "top": null,
       "visibility": null,
       "width": null
      }
     },
     "be90a5b3af37478d9008659086c695a2": {
      "model_module": "@jupyter-widgets/base",
      "model_module_version": "1.2.0",
      "model_name": "LayoutModel",
      "state": {
       "_model_module": "@jupyter-widgets/base",
       "_model_module_version": "1.2.0",
       "_model_name": "LayoutModel",
       "_view_count": null,
       "_view_module": "@jupyter-widgets/base",
       "_view_module_version": "1.2.0",
       "_view_name": "LayoutView",
       "align_content": null,
       "align_items": null,
       "align_self": null,
       "border": null,
       "bottom": null,
       "display": null,
       "flex": null,
       "flex_flow": null,
       "grid_area": null,
       "grid_auto_columns": null,
       "grid_auto_flow": null,
       "grid_auto_rows": null,
       "grid_column": null,
       "grid_gap": null,
       "grid_row": null,
       "grid_template_areas": null,
       "grid_template_columns": null,
       "grid_template_rows": null,
       "height": null,
       "justify_content": null,
       "justify_items": null,
       "left": null,
       "margin": null,
       "max_height": null,
       "max_width": null,
       "min_height": null,
       "min_width": null,
       "object_fit": null,
       "object_position": null,
       "order": null,
       "overflow": null,
       "overflow_x": null,
       "overflow_y": null,
       "padding": null,
       "right": null,
       "top": null,
       "visibility": null,
       "width": null
      }
     },
     "bf22755cf2914ba9880cfbee7993ef18": {
      "model_module": "@jupyter-widgets/controls",
      "model_module_version": "1.5.0",
      "model_name": "HBoxModel",
      "state": {
       "_dom_classes": [],
       "_model_module": "@jupyter-widgets/controls",
       "_model_module_version": "1.5.0",
       "_model_name": "HBoxModel",
       "_view_count": null,
       "_view_module": "@jupyter-widgets/controls",
       "_view_module_version": "1.5.0",
       "_view_name": "HBoxView",
       "box_style": "",
       "children": [
        "IPY_MODEL_37ac8d75f9294890a21cda7edbbc0755",
        "IPY_MODEL_a2356de9a54d43728fdadf99de094bdf",
        "IPY_MODEL_6cc224487ab54cbfb83a6b6dd4b3b1df"
       ],
       "layout": "IPY_MODEL_be2f81c31f96473fbea8434373829e1d"
      }
     },
     "bf8f3c93606642e58a1ef5cfcc81696c": {
      "model_module": "@jupyter-widgets/controls",
      "model_module_version": "1.5.0",
      "model_name": "FloatProgressModel",
      "state": {
       "_dom_classes": [],
       "_model_module": "@jupyter-widgets/controls",
       "_model_module_version": "1.5.0",
       "_model_name": "FloatProgressModel",
       "_view_count": null,
       "_view_module": "@jupyter-widgets/controls",
       "_view_module_version": "1.5.0",
       "_view_name": "ProgressView",
       "bar_style": "success",
       "description": "",
       "description_tooltip": null,
       "layout": "IPY_MODEL_327557f222c8495da3d5cecef8da1766",
       "max": 17.0,
       "min": 0.0,
       "orientation": "horizontal",
       "style": "IPY_MODEL_f7cb222c79a440a7be6971c7769e3716",
       "value": 17.0
      }
     },
     "bfa4f73292a642e5872f38d2f8841b0a": {
      "model_module": "@jupyter-widgets/controls",
      "model_module_version": "1.5.0",
      "model_name": "HBoxModel",
      "state": {
       "_dom_classes": [],
       "_model_module": "@jupyter-widgets/controls",
       "_model_module_version": "1.5.0",
       "_model_name": "HBoxModel",
       "_view_count": null,
       "_view_module": "@jupyter-widgets/controls",
       "_view_module_version": "1.5.0",
       "_view_name": "HBoxView",
       "box_style": "",
       "children": [
        "IPY_MODEL_ad11b189945347e4bed6a1872d21ebc4",
        "IPY_MODEL_515b1a88b30a4f6191ecc507572189d4",
        "IPY_MODEL_d11bf11cf325493296102c4441628d38"
       ],
       "layout": "IPY_MODEL_3a7adb25fd0a49a79e5a321c979af97d"
      }
     },
     "c18d934e453a457e8dad7a3987b3a890": {
      "model_module": "@jupyter-widgets/controls",
      "model_module_version": "1.5.0",
      "model_name": "ProgressStyleModel",
      "state": {
       "_model_module": "@jupyter-widgets/controls",
       "_model_module_version": "1.5.0",
       "_model_name": "ProgressStyleModel",
       "_view_count": null,
       "_view_module": "@jupyter-widgets/base",
       "_view_module_version": "1.2.0",
       "_view_name": "StyleView",
       "bar_color": null,
       "description_width": ""
      }
     },
     "c6e7185d65134a9ba20aa68631743f02": {
      "model_module": "@jupyter-widgets/controls",
      "model_module_version": "1.5.0",
      "model_name": "DescriptionStyleModel",
      "state": {
       "_model_module": "@jupyter-widgets/controls",
       "_model_module_version": "1.5.0",
       "_model_name": "DescriptionStyleModel",
       "_view_count": null,
       "_view_module": "@jupyter-widgets/base",
       "_view_module_version": "1.2.0",
       "_view_name": "StyleView",
       "description_width": ""
      }
     },
     "cb8440f63e3e4d7996171d4a11835796": {
      "model_module": "@jupyter-widgets/controls",
      "model_module_version": "1.5.0",
      "model_name": "HTMLModel",
      "state": {
       "_dom_classes": [],
       "_model_module": "@jupyter-widgets/controls",
       "_model_module_version": "1.5.0",
       "_model_name": "HTMLModel",
       "_view_count": null,
       "_view_module": "@jupyter-widgets/controls",
       "_view_module_version": "1.5.0",
       "_view_name": "HTMLView",
       "description": "",
       "description_tooltip": null,
       "layout": "IPY_MODEL_82fd6b7e46864901afdd54ce15f19c6c",
       "placeholder": "​",
       "style": "IPY_MODEL_3000504ed20841e580a9be88816f50c3",
       "value": "Downloading: 100%"
      }
     },
     "ce8bbbdc4b0c4cfc9e789a6a0b1171f6": {
      "model_module": "@jupyter-widgets/controls",
      "model_module_version": "1.5.0",
      "model_name": "HTMLModel",
      "state": {
       "_dom_classes": [],
       "_model_module": "@jupyter-widgets/controls",
       "_model_module_version": "1.5.0",
       "_model_name": "HTMLModel",
       "_view_count": null,
       "_view_module": "@jupyter-widgets/controls",
       "_view_module_version": "1.5.0",
       "_view_name": "HTMLView",
       "description": "",
       "description_tooltip": null,
       "layout": "IPY_MODEL_9afac56512d343e58f79f2c3a92d42ef",
       "placeholder": "​",
       "style": "IPY_MODEL_3c45b22898354dc99b07db1128e67167",
       "value": "Downloading: 100%"
      }
     },
     "d1102e1c7554461f8dd74f9e08049802": {
      "model_module": "@jupyter-widgets/controls",
      "model_module_version": "1.5.0",
      "model_name": "DescriptionStyleModel",
      "state": {
       "_model_module": "@jupyter-widgets/controls",
       "_model_module_version": "1.5.0",
       "_model_name": "DescriptionStyleModel",
       "_view_count": null,
       "_view_module": "@jupyter-widgets/base",
       "_view_module_version": "1.2.0",
       "_view_name": "StyleView",
       "description_width": ""
      }
     },
     "d11bf11cf325493296102c4441628d38": {
      "model_module": "@jupyter-widgets/controls",
      "model_module_version": "1.5.0",
      "model_name": "HTMLModel",
      "state": {
       "_dom_classes": [],
       "_model_module": "@jupyter-widgets/controls",
       "_model_module_version": "1.5.0",
       "_model_name": "HTMLModel",
       "_view_count": null,
       "_view_module": "@jupyter-widgets/controls",
       "_view_module_version": "1.5.0",
       "_view_name": "HTMLView",
       "description": "",
       "description_tooltip": null,
       "layout": "IPY_MODEL_28b6ac1c2a3a4b2c83dab916b1be1ed5",
       "placeholder": "​",
       "style": "IPY_MODEL_38d3982284a14329a22af67926979095",
       "value": " 295/295 [00:00&lt;00:00, 11.9kB/s]"
      }
     },
     "d589322b1bc14d1e8113b4932dccca24": {
      "model_module": "@jupyter-widgets/base",
      "model_module_version": "1.2.0",
      "model_name": "LayoutModel",
      "state": {
       "_model_module": "@jupyter-widgets/base",
       "_model_module_version": "1.2.0",
       "_model_name": "LayoutModel",
       "_view_count": null,
       "_view_module": "@jupyter-widgets/base",
       "_view_module_version": "1.2.0",
       "_view_name": "LayoutView",
       "align_content": null,
       "align_items": null,
       "align_self": null,
       "border": null,
       "bottom": null,
       "display": null,
       "flex": null,
       "flex_flow": null,
       "grid_area": null,
       "grid_auto_columns": null,
       "grid_auto_flow": null,
       "grid_auto_rows": null,
       "grid_column": null,
       "grid_gap": null,
       "grid_row": null,
       "grid_template_areas": null,
       "grid_template_columns": null,
       "grid_template_rows": null,
       "height": null,
       "justify_content": null,
       "justify_items": null,
       "left": null,
       "margin": null,
       "max_height": null,
       "max_width": null,
       "min_height": null,
       "min_width": null,
       "object_fit": null,
       "object_position": null,
       "order": null,
       "overflow": null,
       "overflow_x": null,
       "overflow_y": null,
       "padding": null,
       "right": null,
       "top": null,
       "visibility": null,
       "width": null
      }
     },
     "d631a3eb4a3d4e27bbe87d637f7e3175": {
      "model_module": "@jupyter-widgets/base",
      "model_module_version": "1.2.0",
      "model_name": "LayoutModel",
      "state": {
       "_model_module": "@jupyter-widgets/base",
       "_model_module_version": "1.2.0",
       "_model_name": "LayoutModel",
       "_view_count": null,
       "_view_module": "@jupyter-widgets/base",
       "_view_module_version": "1.2.0",
       "_view_name": "LayoutView",
       "align_content": null,
       "align_items": null,
       "align_self": null,
       "border": null,
       "bottom": null,
       "display": null,
       "flex": null,
       "flex_flow": null,
       "grid_area": null,
       "grid_auto_columns": null,
       "grid_auto_flow": null,
       "grid_auto_rows": null,
       "grid_column": null,
       "grid_gap": null,
       "grid_row": null,
       "grid_template_areas": null,
       "grid_template_columns": null,
       "grid_template_rows": null,
       "height": null,
       "justify_content": null,
       "justify_items": null,
       "left": null,
       "margin": null,
       "max_height": null,
       "max_width": null,
       "min_height": null,
       "min_width": null,
       "object_fit": null,
       "object_position": null,
       "order": null,
       "overflow": null,
       "overflow_x": null,
       "overflow_y": null,
       "padding": null,
       "right": null,
       "top": null,
       "visibility": null,
       "width": null
      }
     },
     "d923004f63d14faaa53ca065f7efa9bf": {
      "model_module": "@jupyter-widgets/base",
      "model_module_version": "1.2.0",
      "model_name": "LayoutModel",
      "state": {
       "_model_module": "@jupyter-widgets/base",
       "_model_module_version": "1.2.0",
       "_model_name": "LayoutModel",
       "_view_count": null,
       "_view_module": "@jupyter-widgets/base",
       "_view_module_version": "1.2.0",
       "_view_name": "LayoutView",
       "align_content": null,
       "align_items": null,
       "align_self": null,
       "border": null,
       "bottom": null,
       "display": null,
       "flex": null,
       "flex_flow": null,
       "grid_area": null,
       "grid_auto_columns": null,
       "grid_auto_flow": null,
       "grid_auto_rows": null,
       "grid_column": null,
       "grid_gap": null,
       "grid_row": null,
       "grid_template_areas": null,
       "grid_template_columns": null,
       "grid_template_rows": null,
       "height": null,
       "justify_content": null,
       "justify_items": null,
       "left": null,
       "margin": null,
       "max_height": null,
       "max_width": null,
       "min_height": null,
       "min_width": null,
       "object_fit": null,
       "object_position": null,
       "order": null,
       "overflow": null,
       "overflow_x": null,
       "overflow_y": null,
       "padding": null,
       "right": null,
       "top": null,
       "visibility": null,
       "width": null
      }
     },
     "dcd1a272f4dd42359553765a641c32a7": {
      "model_module": "@jupyter-widgets/controls",
      "model_module_version": "1.5.0",
      "model_name": "HTMLModel",
      "state": {
       "_dom_classes": [],
       "_model_module": "@jupyter-widgets/controls",
       "_model_module_version": "1.5.0",
       "_model_name": "HTMLModel",
       "_view_count": null,
       "_view_module": "@jupyter-widgets/controls",
       "_view_module_version": "1.5.0",
       "_view_name": "HTMLView",
       "description": "",
       "description_tooltip": null,
       "layout": "IPY_MODEL_453d413f5f14472e8586f15c0101287e",
       "placeholder": "​",
       "style": "IPY_MODEL_a7c4db3cf7924b45956dc5c7cf64a731",
       "value": " 1.13k/1.13k [00:00&lt;00:00, 42.9kB/s]"
      }
     },
     "dd0504731c154792964be3d81891d06c": {
      "model_module": "@jupyter-widgets/base",
      "model_module_version": "1.2.0",
      "model_name": "LayoutModel",
      "state": {
       "_model_module": "@jupyter-widgets/base",
       "_model_module_version": "1.2.0",
       "_model_name": "LayoutModel",
       "_view_count": null,
       "_view_module": "@jupyter-widgets/base",
       "_view_module_version": "1.2.0",
       "_view_name": "LayoutView",
       "align_content": null,
       "align_items": null,
       "align_self": null,
       "border": null,
       "bottom": null,
       "display": null,
       "flex": null,
       "flex_flow": null,
       "grid_area": null,
       "grid_auto_columns": null,
       "grid_auto_flow": null,
       "grid_auto_rows": null,
       "grid_column": null,
       "grid_gap": null,
       "grid_row": null,
       "grid_template_areas": null,
       "grid_template_columns": null,
       "grid_template_rows": null,
       "height": null,
       "justify_content": null,
       "justify_items": null,
       "left": null,
       "margin": null,
       "max_height": null,
       "max_width": null,
       "min_height": null,
       "min_width": null,
       "object_fit": null,
       "object_position": null,
       "order": null,
       "overflow": null,
       "overflow_x": null,
       "overflow_y": null,
       "padding": null,
       "right": null,
       "top": null,
       "visibility": null,
       "width": null
      }
     },
     "dd1d257b37214b41b7ca95e42f4d68b9": {
      "model_module": "@jupyter-widgets/base",
      "model_module_version": "1.2.0",
      "model_name": "LayoutModel",
      "state": {
       "_model_module": "@jupyter-widgets/base",
       "_model_module_version": "1.2.0",
       "_model_name": "LayoutModel",
       "_view_count": null,
       "_view_module": "@jupyter-widgets/base",
       "_view_module_version": "1.2.0",
       "_view_name": "LayoutView",
       "align_content": null,
       "align_items": null,
       "align_self": null,
       "border": null,
       "bottom": null,
       "display": null,
       "flex": null,
       "flex_flow": null,
       "grid_area": null,
       "grid_auto_columns": null,
       "grid_auto_flow": null,
       "grid_auto_rows": null,
       "grid_column": null,
       "grid_gap": null,
       "grid_row": null,
       "grid_template_areas": null,
       "grid_template_columns": null,
       "grid_template_rows": null,
       "height": null,
       "justify_content": null,
       "justify_items": null,
       "left": null,
       "margin": null,
       "max_height": null,
       "max_width": null,
       "min_height": null,
       "min_width": null,
       "object_fit": null,
       "object_position": null,
       "order": null,
       "overflow": null,
       "overflow_x": null,
       "overflow_y": null,
       "padding": null,
       "right": null,
       "top": null,
       "visibility": null,
       "width": null
      }
     },
     "e9931b12dde94d6b97b538909e643724": {
      "model_module": "@jupyter-widgets/controls",
      "model_module_version": "1.5.0",
      "model_name": "FloatProgressModel",
      "state": {
       "_dom_classes": [],
       "_model_module": "@jupyter-widgets/controls",
       "_model_module_version": "1.5.0",
       "_model_name": "FloatProgressModel",
       "_view_count": null,
       "_view_module": "@jupyter-widgets/controls",
       "_view_module_version": "1.5.0",
       "_view_name": "ProgressView",
       "bar_style": "success",
       "description": "",
       "description_tooltip": null,
       "layout": "IPY_MODEL_280378f944da4fc9a8fa9aa7fe8b8b73",
       "max": 843438.0,
       "min": 0.0,
       "orientation": "horizontal",
       "style": "IPY_MODEL_c18d934e453a457e8dad7a3987b3a890",
       "value": 843438.0
      }
     },
     "e9e23f6412c84c73961e214a82e1aedd": {
      "model_module": "@jupyter-widgets/controls",
      "model_module_version": "1.5.0",
      "model_name": "FloatProgressModel",
      "state": {
       "_dom_classes": [],
       "_model_module": "@jupyter-widgets/controls",
       "_model_module_version": "1.5.0",
       "_model_name": "FloatProgressModel",
       "_view_count": null,
       "_view_module": "@jupyter-widgets/controls",
       "_view_module_version": "1.5.0",
       "_view_name": "ProgressView",
       "bar_style": "success",
       "description": "",
       "description_tooltip": null,
       "layout": "IPY_MODEL_92b337be2b8343178777c22509e8eca2",
       "max": 150.0,
       "min": 0.0,
       "orientation": "horizontal",
       "style": "IPY_MODEL_fc3eabb700aa4ea28f5dfd0d2a2e8038",
       "value": 150.0
      }
     },
     "ea60d176bcd342468c976403cee2bb91": {
      "model_module": "@jupyter-widgets/controls",
      "model_module_version": "1.5.0",
      "model_name": "DescriptionStyleModel",
      "state": {
       "_model_module": "@jupyter-widgets/controls",
       "_model_module_version": "1.5.0",
       "_model_name": "DescriptionStyleModel",
       "_view_count": null,
       "_view_module": "@jupyter-widgets/base",
       "_view_module_version": "1.2.0",
       "_view_name": "StyleView",
       "description_width": ""
      }
     },
     "edd5cf5bd8eb4823b0aade4058405638": {
      "model_module": "@jupyter-widgets/controls",
      "model_module_version": "1.5.0",
      "model_name": "DescriptionStyleModel",
      "state": {
       "_model_module": "@jupyter-widgets/controls",
       "_model_module_version": "1.5.0",
       "_model_name": "DescriptionStyleModel",
       "_view_count": null,
       "_view_module": "@jupyter-widgets/base",
       "_view_module_version": "1.2.0",
       "_view_name": "StyleView",
       "description_width": ""
      }
     },
     "ef89630b6b6549d782ed1e2496d98d9a": {
      "model_module": "@jupyter-widgets/base",
      "model_module_version": "1.2.0",
      "model_name": "LayoutModel",
      "state": {
       "_model_module": "@jupyter-widgets/base",
       "_model_module_version": "1.2.0",
       "_model_name": "LayoutModel",
       "_view_count": null,
       "_view_module": "@jupyter-widgets/base",
       "_view_module_version": "1.2.0",
       "_view_name": "LayoutView",
       "align_content": null,
       "align_items": null,
       "align_self": null,
       "border": null,
       "bottom": null,
       "display": null,
       "flex": null,
       "flex_flow": null,
       "grid_area": null,
       "grid_auto_columns": null,
       "grid_auto_flow": null,
       "grid_auto_rows": null,
       "grid_column": null,
       "grid_gap": null,
       "grid_row": null,
       "grid_template_areas": null,
       "grid_template_columns": null,
       "grid_template_rows": null,
       "height": null,
       "justify_content": null,
       "justify_items": null,
       "left": null,
       "margin": null,
       "max_height": null,
       "max_width": null,
       "min_height": null,
       "min_width": null,
       "object_fit": null,
       "object_position": null,
       "order": null,
       "overflow": null,
       "overflow_x": null,
       "overflow_y": null,
       "padding": null,
       "right": null,
       "top": null,
       "visibility": null,
       "width": null
      }
     },
     "f57a1512c40249069cbff8ba06d7535b": {
      "model_module": "@jupyter-widgets/controls",
      "model_module_version": "1.5.0",
      "model_name": "HTMLModel",
      "state": {
       "_dom_classes": [],
       "_model_module": "@jupyter-widgets/controls",
       "_model_module_version": "1.5.0",
       "_model_name": "HTMLModel",
       "_view_count": null,
       "_view_module": "@jupyter-widgets/controls",
       "_view_module_version": "1.5.0",
       "_view_name": "HTMLView",
       "description": "",
       "description_tooltip": null,
       "layout": "IPY_MODEL_1344e051544642d9a66d2be3b9dc28ea",
       "placeholder": "​",
       "style": "IPY_MODEL_89c06c1e01a545859e43f0bde6e8e646",
       "value": " 824k/824k [00:00&lt;00:00, 2.03MB/s]"
      }
     },
     "f7cb222c79a440a7be6971c7769e3716": {
      "model_module": "@jupyter-widgets/controls",
      "model_module_version": "1.5.0",
      "model_name": "ProgressStyleModel",
      "state": {
       "_model_module": "@jupyter-widgets/controls",
       "_model_module_version": "1.5.0",
       "_model_name": "ProgressStyleModel",
       "_view_count": null,
       "_view_module": "@jupyter-widgets/base",
       "_view_module_version": "1.2.0",
       "_view_name": "StyleView",
       "bar_color": null,
       "description_width": ""
      }
     },
     "fc3eabb700aa4ea28f5dfd0d2a2e8038": {
      "model_module": "@jupyter-widgets/controls",
      "model_module_version": "1.5.0",
      "model_name": "ProgressStyleModel",
      "state": {
       "_model_module": "@jupyter-widgets/controls",
       "_model_module_version": "1.5.0",
       "_model_name": "ProgressStyleModel",
       "_view_count": null,
       "_view_module": "@jupyter-widgets/base",
       "_view_module_version": "1.2.0",
       "_view_name": "StyleView",
       "bar_color": null,
       "description_width": ""
      }
     },
     "fe737fb26ce64d2aba7f47acfa3c65d9": {
      "model_module": "@jupyter-widgets/controls",
      "model_module_version": "1.5.0",
      "model_name": "ProgressStyleModel",
      "state": {
       "_model_module": "@jupyter-widgets/controls",
       "_model_module_version": "1.5.0",
       "_model_name": "ProgressStyleModel",
       "_view_count": null,
       "_view_module": "@jupyter-widgets/base",
       "_view_module_version": "1.2.0",
       "_view_name": "StyleView",
       "bar_color": null,
       "description_width": ""
      }
     }
    },
    "version_major": 2,
    "version_minor": 0
   }
  }
 },
 "nbformat": 4,
 "nbformat_minor": 5
}
